{
 "cells": [
  {
   "cell_type": "code",
   "execution_count": 1,
   "metadata": {},
   "outputs": [],
   "source": [
    "import pandas as pd\n",
    "import numpy as np\n",
    "import re\n",
    "df=pd.read_csv(\"diagnosis.csv\")"
   ]
  },
  {
   "cell_type": "code",
   "execution_count": null,
   "metadata": {},
   "outputs": [],
   "source": [
    "df.head()"
   ]
  },
  {
   "cell_type": "code",
   "execution_count": 16,
   "metadata": {},
   "outputs": [],
   "source": [
    "unique_types=[]\n",
    "for val in df['diagnosisstring'].unique():\n",
    "    if(re.search(\"sep\",val.lower())):\n",
    "        unique_types.append(val)"
   ]
  },
  {
   "cell_type": "code",
   "execution_count": 18,
   "metadata": {},
   "outputs": [
    {
     "data": {
      "text/plain": [
       "86"
      ]
     },
     "execution_count": 18,
     "metadata": {},
     "output_type": "execute_result"
    }
   ],
   "source": [
    "len(unique_types)"
   ]
  },
  {
   "cell_type": "code",
   "execution_count": 3,
   "metadata": {},
   "outputs": [],
   "source": [
    "cases=[]\n",
    "for row in df.itertuples():\n",
    "    if(\"sepsis\" in row.diagnosisstring.lower()):\n",
    "        cases.append(row.patientunitstayid)"
   ]
  },
  {
   "cell_type": "code",
   "execution_count": 14,
   "metadata": {},
   "outputs": [
    {
     "data": {
      "text/plain": [
       "115375"
      ]
     },
     "execution_count": 14,
     "metadata": {},
     "output_type": "execute_result"
    }
   ],
   "source": [
    "len(cases)"
   ]
  },
  {
   "cell_type": "code",
   "execution_count": 4,
   "metadata": {},
   "outputs": [
    {
     "data": {
      "text/plain": [
       "23479"
      ]
     },
     "execution_count": 4,
     "metadata": {},
     "output_type": "execute_result"
    }
   ],
   "source": [
    "len(np.unique(cases))"
   ]
  },
  {
   "cell_type": "code",
   "execution_count": 6,
   "metadata": {},
   "outputs": [],
   "source": [
    "regex_sepsis=[]\n",
    "for row in df['diagnosisstring'].iloc[:].values:\n",
    "    row=str(row.lower())\n",
    "    if(re.search(\"sep\",row)):\n",
    "        regex_sepsis.append(row)"
   ]
  },
  {
   "cell_type": "code",
   "execution_count": 10,
   "metadata": {},
   "outputs": [
    {
     "data": {
      "text/plain": [
       "151003"
      ]
     },
     "execution_count": 10,
     "metadata": {},
     "output_type": "execute_result"
    }
   ],
   "source": [
    "len(regex_sepsis)"
   ]
  },
  {
   "cell_type": "code",
   "execution_count": 11,
   "metadata": {},
   "outputs": [],
   "source": [
    "regex_cases=[]\n",
    "for row in df.itertuples():\n",
    "    if(re.search(\"sep\",row.diagnosisstring.lower())):\n",
    "        regex_cases.append(row.patientunitstayid)"
   ]
  },
  {
   "cell_type": "code",
   "execution_count": 13,
   "metadata": {},
   "outputs": [
    {
     "data": {
      "text/plain": [
       "26831"
      ]
     },
     "execution_count": 13,
     "metadata": {},
     "output_type": "execute_result"
    }
   ],
   "source": [
    "len(np.unique(regex_cases))"
   ]
  },
  {
   "cell_type": "code",
   "execution_count": 5,
   "metadata": {
    "scrolled": true
   },
   "outputs": [
    {
     "data": {
      "text/plain": [
       "0          414.00, I25.10\n",
       "1                    null\n",
       "2           491.20, J44.9\n",
       "3           491.20, J44.9\n",
       "4            428.0, I50.9\n",
       "5           427.31, I48.0\n",
       "6            585.9, N18.9\n",
       "7          414.00, I25.10\n",
       "8            428.0, I50.9\n",
       "9                    null\n",
       "10           585.9, N18.9\n",
       "11          427.31, I48.0\n",
       "12                   null\n",
       "13                 518.82\n",
       "14                   null\n",
       "15             294.9, F03\n",
       "16                   null\n",
       "17          345.90, R56.9\n",
       "18          345.90, R56.9\n",
       "19             294.9, F03\n",
       "20                   null\n",
       "21           286.9, D68.9\n",
       "22           286.9, D68.9\n",
       "23                   null\n",
       "24                 518.82\n",
       "25                   null\n",
       "26                   null\n",
       "27                   null\n",
       "28                   null\n",
       "29           038.9, A41.9\n",
       "                ...      \n",
       "2710642      599.0, N39.0\n",
       "2710643      427.5, I46.9\n",
       "2710644      038.9, A41.9\n",
       "2710645      427.5, I46.9\n",
       "2710646      427.5, I46.9\n",
       "2710647      038.9, A41.9\n",
       "2710648     410.90, I21.3\n",
       "2710649      584.9, N17.9\n",
       "2710650      427.5, I46.9\n",
       "2710651     410.90, I21.3\n",
       "2710652        486, J18.9\n",
       "2710653    518.81, J96.00\n",
       "2710654     410.90, I21.3\n",
       "2710655     410.90, I21.3\n",
       "2710656      038.9, A41.9\n",
       "2710657      584.9, N17.9\n",
       "2710658      038.9, A41.9\n",
       "2710659     410.90, I21.3\n",
       "2710660        486, J18.9\n",
       "2710661    518.81, J96.00\n",
       "2710662    518.81, J96.00\n",
       "2710663      599.0, N39.0\n",
       "2710664     410.90, I21.3\n",
       "2710665      599.0, N39.0\n",
       "2710666      599.0, N39.0\n",
       "2710667      599.0, N39.0\n",
       "2710668      038.9, A41.9\n",
       "2710669      584.9, N17.9\n",
       "2710670      578.9, K92.2\n",
       "2710671    415.19, I26.99\n",
       "Name: icd9code, Length: 2710672, dtype: object"
      ]
     },
     "execution_count": 5,
     "metadata": {},
     "output_type": "execute_result"
    }
   ],
   "source": [
    "df['icd9code'].astype(object).fillna(\"null\")"
   ]
  },
  {
   "cell_type": "code",
   "execution_count": 6,
   "metadata": {},
   "outputs": [
    {
     "data": {
      "text/plain": [
       "1209"
      ]
     },
     "execution_count": 6,
     "metadata": {},
     "output_type": "execute_result"
    }
   ],
   "source": [
    "len(df['icd9code'].unique())"
   ]
  },
  {
   "cell_type": "code",
   "execution_count": 10,
   "metadata": {
    "scrolled": true
   },
   "outputs": [],
   "source": [
    "icd9cases=[]\n",
    "\n",
    "for row in df['icd9code'].iloc[:].values:\n",
    "    row=str(row)\n",
    "    if(re.search(\"^995[.][0-9][0-9]$\",row)):\n",
    "        icd9cases.append(row)"
   ]
  },
  {
   "cell_type": "code",
   "execution_count": 13,
   "metadata": {},
   "outputs": [
    {
     "data": {
      "text/plain": [
       "15210"
      ]
     },
     "execution_count": 13,
     "metadata": {},
     "output_type": "execute_result"
    }
   ],
   "source": [
    "len(icd9cases)"
   ]
  },
  {
   "cell_type": "code",
   "execution_count": null,
   "metadata": {},
   "outputs": [],
   "source": []
  }
 ],
 "metadata": {
  "kernelspec": {
   "display_name": "Python 3",
   "language": "python",
   "name": "python3"
  },
  "language_info": {
   "codemirror_mode": {
    "name": "ipython",
    "version": 3
   },
   "file_extension": ".py",
   "mimetype": "text/x-python",
   "name": "python",
   "nbconvert_exporter": "python",
   "pygments_lexer": "ipython3",
   "version": "3.7.3"
  }
 },
 "nbformat": 4,
 "nbformat_minor": 2
}

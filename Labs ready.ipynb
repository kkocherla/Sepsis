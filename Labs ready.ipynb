{
 "cells": [
  {
   "cell_type": "code",
   "execution_count": 1,
   "metadata": {},
   "outputs": [],
   "source": [
    "import pandas as pd\n",
    "import numpy as np"
   ]
  },
  {
   "cell_type": "code",
   "execution_count": 2,
   "metadata": {},
   "outputs": [],
   "source": [
    "pre_final_lab=pd.read_csv(\"labs_after_FiO2.csv\")\n",
    "susp=pd.read_csv(\"24_hour_sepsis.csv\")"
   ]
  },
  {
   "cell_type": "code",
   "execution_count": null,
   "metadata": {},
   "outputs": [],
   "source": [
    "pre_final_lab.head()"
   ]
  },
  {
   "cell_type": "code",
   "execution_count": 4,
   "metadata": {},
   "outputs": [],
   "source": [
    "pre_final_lab['platelets_x_1000']=np.nan\n",
    "pre_final_lab['total_bilirubin']=np.nan\n",
    "pre_final_lab['urinary_creatinine']=np.nan"
   ]
  },
  {
   "cell_type": "code",
   "execution_count": 5,
   "metadata": {},
   "outputs": [],
   "source": [
    "pre_final_lab['platelets_x_1000']=pre_final_lab.loc[pre_final_lab['labname']=='platelets x 1000','labresult']\n",
    "pre_final_lab['total_bilirubin']=pre_final_lab.loc[pre_final_lab['labname']=='total bilirubin','labresult']\n",
    "pre_final_lab['urinary_creatinine']=pre_final_lab.loc[pre_final_lab['labname']=='urinary creatinine','labresult']"
   ]
  },
  {
   "cell_type": "code",
   "execution_count": null,
   "metadata": {
    "scrolled": true
   },
   "outputs": [],
   "source": [
    "pre_final_lab"
   ]
  },
  {
   "cell_type": "code",
   "execution_count": 7,
   "metadata": {},
   "outputs": [],
   "source": [
    "pre_final_lab['paO2_FiO2']=pre_final_lab['paO2_FiO2'].astype('float32')\n",
    "pre_final_lab['platelets_x_1000']=pre_final_lab['platelets_x_1000'].astype('float32')\n",
    "pre_final_lab['total_bilirubin']=pre_final_lab['total_bilirubin'].astype('float32')\n",
    "pre_final_lab['urinary_creatinine']=pre_final_lab['urinary_creatinine'].astype('float32')"
   ]
  },
  {
   "cell_type": "code",
   "execution_count": 8,
   "metadata": {},
   "outputs": [
    {
     "data": {
      "text/plain": [
       "patientunitstayid       int64\n",
       "labresultoffset         int64\n",
       "labname                object\n",
       "labresult             float64\n",
       "paO2_FiO2             float32\n",
       "platelets_x_1000      float32\n",
       "total_bilirubin       float32\n",
       "urinary_creatinine    float32\n",
       "dtype: object"
      ]
     },
     "execution_count": 8,
     "metadata": {},
     "output_type": "execute_result"
    }
   ],
   "source": [
    "pre_final_lab.dtypes"
   ]
  },
  {
   "cell_type": "code",
   "execution_count": 9,
   "metadata": {},
   "outputs": [],
   "source": [
    "pre_final_lab=pre_final_lab.replace([np.inf, -np.inf], np.nan)"
   ]
  },
  {
   "cell_type": "code",
   "execution_count": 10,
   "metadata": {},
   "outputs": [],
   "source": [
    "del pre_final_lab['labresult']"
   ]
  },
  {
   "cell_type": "code",
   "execution_count": 11,
   "metadata": {},
   "outputs": [],
   "source": [
    "del pre_final_lab['labname']"
   ]
  },
  {
   "cell_type": "code",
   "execution_count": null,
   "metadata": {
    "scrolled": true
   },
   "outputs": [],
   "source": [
    "pre_final_lab"
   ]
  },
  {
   "cell_type": "code",
   "execution_count": 15,
   "metadata": {},
   "outputs": [
    {
     "data": {
      "text/plain": [
       "14156"
      ]
     },
     "execution_count": 15,
     "metadata": {},
     "output_type": "execute_result"
    }
   ],
   "source": [
    "cases=list(susp[susp['flag']==1]['patientunitstayid'].unique())\n",
    "filtered_prefinal=pre_final_lab.loc[pre_final_lab['patientunitstayid'].isin(cases)]\n",
    "len(list(filtered_prefinal['patientunitstayid'].unique()))"
   ]
  },
  {
   "cell_type": "code",
   "execution_count": 19,
   "metadata": {},
   "outputs": [],
   "source": [
    "df_lab=pd.read_csv('lab.csv',chunksize=10000)\n",
    "arr=[]\n",
    "for chunk in df_lab:\n",
    "    arr.append(chunk)\n",
    "df_lab=pd.concat(arr,sort=False)\n",
    "creatinine_to_merge=df_lab\n",
    "creatinine_to_merge['creatinine']=np.nan\n",
    "creatinine_to_merge.loc[creatinine_to_merge['labname'].str.startswith('creatinine'),'creatinine']=creatinine_to_merge['labresult']\n",
    "creatinine_to_merge=creatinine_to_merge.loc[creatinine_to_merge['labname'].str.startswith('creatinine')]\n",
    "creatinine_to_merge=creatinine_to_merge[['patientunitstayid','labresultoffset','creatinine']]\n",
    "creatinine_to_merge.to_csv(\"creatinine_extract.csv\",index=False)"
   ]
  },
  {
   "cell_type": "code",
   "execution_count": 16,
   "metadata": {},
   "outputs": [],
   "source": [
    "creatinine_to_merge=pd.read_csv('creatinine_extract.csv')"
   ]
  },
  {
   "cell_type": "code",
   "execution_count": 17,
   "metadata": {},
   "outputs": [
    {
     "data": {
      "text/plain": [
       "14151"
      ]
     },
     "execution_count": 17,
     "metadata": {},
     "output_type": "execute_result"
    }
   ],
   "source": [
    "len(creatinine_to_merge.loc[creatinine_to_merge['patientunitstayid'].isin(cases)]['patientunitstayid'].unique())"
   ]
  },
  {
   "cell_type": "code",
   "execution_count": 21,
   "metadata": {},
   "outputs": [],
   "source": [
    "labswithcreatinine=pd.merge(pre_final_lab,creatinine_to_merge,on=['patientunitstayid','labresultoffset'],how='outer')\n",
    "labswithcreatinine=labswithcreatinine.groupby(['patientunitstayid','labresultoffset'],as_index=False).max()"
   ]
  },
  {
   "cell_type": "code",
   "execution_count": 22,
   "metadata": {},
   "outputs": [],
   "source": [
    "labswithcreatinine.to_csv(\"labs_updated_with_creatinine.csv\",index=False)"
   ]
  },
  {
   "cell_type": "code",
   "execution_count": 16,
   "metadata": {},
   "outputs": [
    {
     "data": {
      "text/html": [
       "<div>\n",
       "<style scoped>\n",
       "    .dataframe tbody tr th:only-of-type {\n",
       "        vertical-align: middle;\n",
       "    }\n",
       "\n",
       "    .dataframe tbody tr th {\n",
       "        vertical-align: top;\n",
       "    }\n",
       "\n",
       "    .dataframe thead th {\n",
       "        text-align: right;\n",
       "    }\n",
       "</style>\n",
       "<table border=\"1\" class=\"dataframe\">\n",
       "  <thead>\n",
       "    <tr style=\"text-align: right;\">\n",
       "      <th></th>\n",
       "      <th>patientunitstayid</th>\n",
       "      <th>labresultoffset</th>\n",
       "      <th>paO2_FiO2</th>\n",
       "      <th>platelets_x_1000</th>\n",
       "      <th>total_bilirubin</th>\n",
       "      <th>urinary_creatinine</th>\n",
       "      <th>creatinine</th>\n",
       "    </tr>\n",
       "  </thead>\n",
       "  <tbody>\n",
       "    <tr>\n",
       "      <th>0</th>\n",
       "      <td>141168</td>\n",
       "      <td>516</td>\n",
       "      <td>NaN</td>\n",
       "      <td>209.0</td>\n",
       "      <td>2.6</td>\n",
       "      <td>NaN</td>\n",
       "      <td>1.95</td>\n",
       "    </tr>\n",
       "    <tr>\n",
       "      <th>1</th>\n",
       "      <td>141168</td>\n",
       "      <td>1133</td>\n",
       "      <td>NaN</td>\n",
       "      <td>213.0</td>\n",
       "      <td>4.1</td>\n",
       "      <td>NaN</td>\n",
       "      <td>2.30</td>\n",
       "    </tr>\n",
       "    <tr>\n",
       "      <th>2</th>\n",
       "      <td>141168</td>\n",
       "      <td>1701</td>\n",
       "      <td>NaN</td>\n",
       "      <td>NaN</td>\n",
       "      <td>NaN</td>\n",
       "      <td>173.119995</td>\n",
       "      <td>NaN</td>\n",
       "    </tr>\n",
       "    <tr>\n",
       "      <th>3</th>\n",
       "      <td>141168</td>\n",
       "      <td>1805</td>\n",
       "      <td>82.0</td>\n",
       "      <td>NaN</td>\n",
       "      <td>NaN</td>\n",
       "      <td>NaN</td>\n",
       "      <td>NaN</td>\n",
       "    </tr>\n",
       "    <tr>\n",
       "      <th>4</th>\n",
       "      <td>141168</td>\n",
       "      <td>2010</td>\n",
       "      <td>84.0</td>\n",
       "      <td>NaN</td>\n",
       "      <td>NaN</td>\n",
       "      <td>NaN</td>\n",
       "      <td>NaN</td>\n",
       "    </tr>\n",
       "  </tbody>\n",
       "</table>\n",
       "</div>"
      ],
      "text/plain": [
       "   patientunitstayid  labresultoffset  paO2_FiO2  platelets_x_1000  \\\n",
       "0             141168              516        NaN             209.0   \n",
       "1             141168             1133        NaN             213.0   \n",
       "2             141168             1701        NaN               NaN   \n",
       "3             141168             1805       82.0               NaN   \n",
       "4             141168             2010       84.0               NaN   \n",
       "\n",
       "   total_bilirubin  urinary_creatinine  creatinine  \n",
       "0              2.6                 NaN        1.95  \n",
       "1              4.1                 NaN        2.30  \n",
       "2              NaN          173.119995         NaN  \n",
       "3              NaN                 NaN         NaN  \n",
       "4              NaN                 NaN         NaN  "
      ]
     },
     "execution_count": 16,
     "metadata": {},
     "output_type": "execute_result"
    }
   ],
   "source": [
    "labswithcreatinine.head()"
   ]
  },
  {
   "cell_type": "code",
   "execution_count": 17,
   "metadata": {},
   "outputs": [],
   "source": [
    "nursevent=pd.read_csv(\"nursechartVent.csv\")"
   ]
  },
  {
   "cell_type": "code",
   "execution_count": null,
   "metadata": {},
   "outputs": [],
   "source": [
    "nursevent.head()"
   ]
  },
  {
   "cell_type": "code",
   "execution_count": 19,
   "metadata": {},
   "outputs": [],
   "source": [
    "nursevent=nursevent[['patientunitstayid','nursingchartentryoffset','nursingchartvalue']]"
   ]
  },
  {
   "cell_type": "code",
   "execution_count": 36,
   "metadata": {},
   "outputs": [],
   "source": [
    "#now we will merge ventilator support with labs table\n",
    "#we need all the labs columns, but only need info about ventilator support if available, so we will use a left join instead of an outer join\n",
    "labs_withO2=pd.merge(labswithcreatinine,nursevent,left_on=['patientunitstayid'],right_on=['patientunitstayid'],how='left').drop_duplicates()"
   ]
  },
  {
   "cell_type": "code",
   "execution_count": null,
   "metadata": {
    "scrolled": true
   },
   "outputs": [],
   "source": [
    "#This is fairly how we want the table to look like, but the nursingchartentryoffset values need to filtered before using for paO2_FiO2\n",
    "labs_withO2.loc[(labs_withO2['patientunitstayid']==144297)]\n"
   ]
  },
  {
   "cell_type": "code",
   "execution_count": 38,
   "metadata": {},
   "outputs": [
    {
     "data": {
      "text/html": [
       "<div>\n",
       "<style scoped>\n",
       "    .dataframe tbody tr th:only-of-type {\n",
       "        vertical-align: middle;\n",
       "    }\n",
       "\n",
       "    .dataframe tbody tr th {\n",
       "        vertical-align: top;\n",
       "    }\n",
       "\n",
       "    .dataframe thead th {\n",
       "        text-align: right;\n",
       "    }\n",
       "</style>\n",
       "<table border=\"1\" class=\"dataframe\">\n",
       "  <thead>\n",
       "    <tr style=\"text-align: right;\">\n",
       "      <th></th>\n",
       "      <th>patientunitstayid</th>\n",
       "      <th>labresultoffset</th>\n",
       "      <th>paO2_FiO2</th>\n",
       "      <th>platelets_x_1000</th>\n",
       "      <th>total_bilirubin</th>\n",
       "      <th>urinary_creatinine</th>\n",
       "      <th>creatinine</th>\n",
       "      <th>nursingchartentryoffset</th>\n",
       "      <th>nursingchartvalue</th>\n",
       "    </tr>\n",
       "  </thead>\n",
       "  <tbody>\n",
       "    <tr>\n",
       "      <th>0</th>\n",
       "      <td>141168</td>\n",
       "      <td>516</td>\n",
       "      <td>NaN</td>\n",
       "      <td>209.0</td>\n",
       "      <td>2.6</td>\n",
       "      <td>NaN</td>\n",
       "      <td>1.95</td>\n",
       "      <td>513.0</td>\n",
       "      <td>nasal cannula</td>\n",
       "    </tr>\n",
       "    <tr>\n",
       "      <th>1</th>\n",
       "      <td>141168</td>\n",
       "      <td>1133</td>\n",
       "      <td>NaN</td>\n",
       "      <td>213.0</td>\n",
       "      <td>4.1</td>\n",
       "      <td>NaN</td>\n",
       "      <td>2.30</td>\n",
       "      <td>513.0</td>\n",
       "      <td>nasal cannula</td>\n",
       "    </tr>\n",
       "    <tr>\n",
       "      <th>2</th>\n",
       "      <td>141168</td>\n",
       "      <td>1701</td>\n",
       "      <td>NaN</td>\n",
       "      <td>NaN</td>\n",
       "      <td>NaN</td>\n",
       "      <td>173.119995</td>\n",
       "      <td>NaN</td>\n",
       "      <td>513.0</td>\n",
       "      <td>nasal cannula</td>\n",
       "    </tr>\n",
       "    <tr>\n",
       "      <th>3</th>\n",
       "      <td>141168</td>\n",
       "      <td>1805</td>\n",
       "      <td>82.0</td>\n",
       "      <td>NaN</td>\n",
       "      <td>NaN</td>\n",
       "      <td>NaN</td>\n",
       "      <td>NaN</td>\n",
       "      <td>513.0</td>\n",
       "      <td>nasal cannula</td>\n",
       "    </tr>\n",
       "    <tr>\n",
       "      <th>4</th>\n",
       "      <td>141168</td>\n",
       "      <td>2010</td>\n",
       "      <td>84.0</td>\n",
       "      <td>NaN</td>\n",
       "      <td>NaN</td>\n",
       "      <td>NaN</td>\n",
       "      <td>NaN</td>\n",
       "      <td>513.0</td>\n",
       "      <td>nasal cannula</td>\n",
       "    </tr>\n",
       "  </tbody>\n",
       "</table>\n",
       "</div>"
      ],
      "text/plain": [
       "   patientunitstayid  labresultoffset  paO2_FiO2  platelets_x_1000  \\\n",
       "0             141168              516        NaN             209.0   \n",
       "1             141168             1133        NaN             213.0   \n",
       "2             141168             1701        NaN               NaN   \n",
       "3             141168             1805       82.0               NaN   \n",
       "4             141168             2010       84.0               NaN   \n",
       "\n",
       "   total_bilirubin  urinary_creatinine  creatinine  nursingchartentryoffset  \\\n",
       "0              2.6                 NaN        1.95                    513.0   \n",
       "1              4.1                 NaN        2.30                    513.0   \n",
       "2              NaN          173.119995         NaN                    513.0   \n",
       "3              NaN                 NaN         NaN                    513.0   \n",
       "4              NaN                 NaN         NaN                    513.0   \n",
       "\n",
       "  nursingchartvalue  \n",
       "0     nasal cannula  \n",
       "1     nasal cannula  \n",
       "2     nasal cannula  \n",
       "3     nasal cannula  \n",
       "4     nasal cannula  "
      ]
     },
     "execution_count": 38,
     "metadata": {},
     "output_type": "execute_result"
    }
   ],
   "source": [
    "labs_withO2.head()"
   ]
  },
  {
   "cell_type": "code",
   "execution_count": 39,
   "metadata": {
    "scrolled": true
   },
   "outputs": [],
   "source": [
    "#Include SOFA scores\n",
    "\n",
    "labs_withO2.loc[(labs_withO2['platelets_x_1000'] >=150), 'SOFA_Coagulation'] = 0\n",
    "labs_withO2.loc[(labs_withO2['platelets_x_1000'] <150), 'SOFA_Coagulation'] = 1\n",
    "labs_withO2.loc[(labs_withO2['platelets_x_1000'] <100) , 'SOFA_Coagulation'] = 2\n",
    "labs_withO2.loc[(labs_withO2['platelets_x_1000'] <50), 'SOFA_Coagulation'] = 3\n",
    "labs_withO2.loc[(labs_withO2['platelets_x_1000'] <20), 'SOFA_Coagulation'] = 4\n",
    "\n",
    "labs_withO2.loc[(labs_withO2['total_bilirubin'] <1.2), 'SOFA_Liver'] = 0\n",
    "labs_withO2.loc[(labs_withO2['total_bilirubin'] >=1.2) & (labs_withO2['total_bilirubin'] <=1.9), 'SOFA_Liver'] = 1\n",
    "labs_withO2.loc[(labs_withO2['total_bilirubin'] >=2) & (labs_withO2['total_bilirubin'] <=5.9), 'SOFA_Liver'] = 2\n",
    "labs_withO2.loc[(labs_withO2['total_bilirubin'] >=6) & (labs_withO2['total_bilirubin'] <=11.9), 'SOFA_Liver'] = 3\n",
    "labs_withO2.loc[(labs_withO2['total_bilirubin'] >12), 'SOFA_Liver'] = 4\n",
    "\n",
    "labs_withO2.loc[(labs_withO2['paO2_FiO2'] >=400), 'SOFA_Respiration'] = 0\n",
    "labs_withO2.loc[(labs_withO2['paO2_FiO2'] <400), 'SOFA_Respiration'] = 1\n",
    "labs_withO2.loc[(labs_withO2['paO2_FiO2'] <300), 'SOFA_Respiration'] = 2\n",
    "labs_withO2.loc[((labs_withO2['paO2_FiO2'] <200) & (labs_withO2['nursingchartvalue'] =='ventilator')), 'SOFA_Respiration'] = 3\n",
    "labs_withO2.loc[((labs_withO2['paO2_FiO2'] <100) & (labs_withO2['nursingchartvalue'] =='ventilator')), 'SOFA_Respiration'] = 4\n",
    "\n",
    "labs_withO2.loc[((labs_withO2['creatinine'] >=0) & (labs_withO2['creatinine'] <=1.1)), 'SOFA_Renal'] = 0\n",
    "labs_withO2.loc[((labs_withO2['creatinine'] >=1.2) & (labs_withO2['creatinine'] <=1.9)), 'SOFA_Renal'] = 1\n",
    "labs_withO2.loc[((labs_withO2['creatinine'] >=2) & (labs_withO2['creatinine'] <=3.4)), 'SOFA_Renal'] = 2\n",
    "labs_withO2.loc[((labs_withO2['creatinine'] >=3.5) & (labs_withO2['creatinine'] <=4.9)) | (labs_withO2['urinary_creatinine'] <200), 'SOFA_Renal'] = 3\n",
    "labs_withO2.loc[(labs_withO2['creatinine'] >5) | (labs_withO2['urinary_creatinine'] <200), 'SOFA_Renal'] = 4\n",
    "\n"
   ]
  },
  {
   "cell_type": "code",
   "execution_count": 40,
   "metadata": {},
   "outputs": [
    {
     "data": {
      "text/html": [
       "<div>\n",
       "<style scoped>\n",
       "    .dataframe tbody tr th:only-of-type {\n",
       "        vertical-align: middle;\n",
       "    }\n",
       "\n",
       "    .dataframe tbody tr th {\n",
       "        vertical-align: top;\n",
       "    }\n",
       "\n",
       "    .dataframe thead th {\n",
       "        text-align: right;\n",
       "    }\n",
       "</style>\n",
       "<table border=\"1\" class=\"dataframe\">\n",
       "  <thead>\n",
       "    <tr style=\"text-align: right;\">\n",
       "      <th></th>\n",
       "      <th>patientunitstayid</th>\n",
       "      <th>labresultoffset</th>\n",
       "      <th>paO2_FiO2</th>\n",
       "      <th>platelets_x_1000</th>\n",
       "      <th>total_bilirubin</th>\n",
       "      <th>urinary_creatinine</th>\n",
       "      <th>creatinine</th>\n",
       "      <th>nursingchartentryoffset</th>\n",
       "      <th>nursingchartvalue</th>\n",
       "      <th>SOFA_Coagulation</th>\n",
       "      <th>SOFA_Liver</th>\n",
       "      <th>SOFA_Respiration</th>\n",
       "      <th>SOFA_Renal</th>\n",
       "    </tr>\n",
       "  </thead>\n",
       "  <tbody>\n",
       "    <tr>\n",
       "      <th>0</th>\n",
       "      <td>141168</td>\n",
       "      <td>516</td>\n",
       "      <td>NaN</td>\n",
       "      <td>209.0</td>\n",
       "      <td>2.6</td>\n",
       "      <td>NaN</td>\n",
       "      <td>1.95</td>\n",
       "      <td>513.0</td>\n",
       "      <td>nasal cannula</td>\n",
       "      <td>0.0</td>\n",
       "      <td>2.0</td>\n",
       "      <td>NaN</td>\n",
       "      <td>NaN</td>\n",
       "    </tr>\n",
       "    <tr>\n",
       "      <th>1</th>\n",
       "      <td>141168</td>\n",
       "      <td>1133</td>\n",
       "      <td>NaN</td>\n",
       "      <td>213.0</td>\n",
       "      <td>4.1</td>\n",
       "      <td>NaN</td>\n",
       "      <td>2.30</td>\n",
       "      <td>513.0</td>\n",
       "      <td>nasal cannula</td>\n",
       "      <td>0.0</td>\n",
       "      <td>2.0</td>\n",
       "      <td>NaN</td>\n",
       "      <td>2.0</td>\n",
       "    </tr>\n",
       "    <tr>\n",
       "      <th>2</th>\n",
       "      <td>141168</td>\n",
       "      <td>1701</td>\n",
       "      <td>NaN</td>\n",
       "      <td>NaN</td>\n",
       "      <td>NaN</td>\n",
       "      <td>173.119995</td>\n",
       "      <td>NaN</td>\n",
       "      <td>513.0</td>\n",
       "      <td>nasal cannula</td>\n",
       "      <td>NaN</td>\n",
       "      <td>NaN</td>\n",
       "      <td>NaN</td>\n",
       "      <td>4.0</td>\n",
       "    </tr>\n",
       "    <tr>\n",
       "      <th>3</th>\n",
       "      <td>141168</td>\n",
       "      <td>1805</td>\n",
       "      <td>82.0</td>\n",
       "      <td>NaN</td>\n",
       "      <td>NaN</td>\n",
       "      <td>NaN</td>\n",
       "      <td>NaN</td>\n",
       "      <td>513.0</td>\n",
       "      <td>nasal cannula</td>\n",
       "      <td>NaN</td>\n",
       "      <td>NaN</td>\n",
       "      <td>2.0</td>\n",
       "      <td>NaN</td>\n",
       "    </tr>\n",
       "    <tr>\n",
       "      <th>4</th>\n",
       "      <td>141168</td>\n",
       "      <td>2010</td>\n",
       "      <td>84.0</td>\n",
       "      <td>NaN</td>\n",
       "      <td>NaN</td>\n",
       "      <td>NaN</td>\n",
       "      <td>NaN</td>\n",
       "      <td>513.0</td>\n",
       "      <td>nasal cannula</td>\n",
       "      <td>NaN</td>\n",
       "      <td>NaN</td>\n",
       "      <td>2.0</td>\n",
       "      <td>NaN</td>\n",
       "    </tr>\n",
       "  </tbody>\n",
       "</table>\n",
       "</div>"
      ],
      "text/plain": [
       "   patientunitstayid  labresultoffset  paO2_FiO2  platelets_x_1000  \\\n",
       "0             141168              516        NaN             209.0   \n",
       "1             141168             1133        NaN             213.0   \n",
       "2             141168             1701        NaN               NaN   \n",
       "3             141168             1805       82.0               NaN   \n",
       "4             141168             2010       84.0               NaN   \n",
       "\n",
       "   total_bilirubin  urinary_creatinine  creatinine  nursingchartentryoffset  \\\n",
       "0              2.6                 NaN        1.95                    513.0   \n",
       "1              4.1                 NaN        2.30                    513.0   \n",
       "2              NaN          173.119995         NaN                    513.0   \n",
       "3              NaN                 NaN         NaN                    513.0   \n",
       "4              NaN                 NaN         NaN                    513.0   \n",
       "\n",
       "  nursingchartvalue  SOFA_Coagulation  SOFA_Liver  SOFA_Respiration  \\\n",
       "0     nasal cannula               0.0         2.0               NaN   \n",
       "1     nasal cannula               0.0         2.0               NaN   \n",
       "2     nasal cannula               NaN         NaN               NaN   \n",
       "3     nasal cannula               NaN         NaN               2.0   \n",
       "4     nasal cannula               NaN         NaN               2.0   \n",
       "\n",
       "   SOFA_Renal  \n",
       "0         NaN  \n",
       "1         2.0  \n",
       "2         4.0  \n",
       "3         NaN  \n",
       "4         NaN  "
      ]
     },
     "execution_count": 40,
     "metadata": {},
     "output_type": "execute_result"
    }
   ],
   "source": [
    "labs_withO2.head()"
   ]
  },
  {
   "cell_type": "code",
   "execution_count": 41,
   "metadata": {},
   "outputs": [],
   "source": [
    "labs_withO2['offset'] = np.where(labs_withO2['labresultoffset']>0, labs_withO2['labresultoffset'], labs_withO2['nursingchartentryoffset'])\n",
    "labs_withO2[['SOFA_Coagulation','SOFA_Liver','SOFA_Respiration','SOFA_Renal']]=labs_withO2[['SOFA_Coagulation','SOFA_Liver','SOFA_Respiration','SOFA_Renal']].fillna(0)\n",
    "labs_withO2_filtered=labs_withO2[['patientunitstayid','offset','SOFA_Coagulation','SOFA_Liver','SOFA_Respiration','SOFA_Renal']].drop_duplicates()\n",
    "labs_withO2_filtered.to_csv('Labs_withSOFA.csv',index=False)"
   ]
  },
  {
   "cell_type": "code",
   "execution_count": null,
   "metadata": {
    "scrolled": true
   },
   "outputs": [],
   "source": [
    "labs_withO2_filtered"
   ]
  },
  {
   "cell_type": "markdown",
   "metadata": {},
   "source": [
    "<h1>Can be done</h1>\n",
    "pre_final_lab['paO2_FiO2']=pre_final_lab['paO2_FiO2'].ffill(limit=5)\n",
    "pre_final_lab['platelets_x_1000']=pre_final_lab['platelets_x_1000'].ffill(limit=5)\n",
    "pre_final_lab['total_bilirubin']=pre_final_lab['total_bilirubin'].ffill(limit=5)\n",
    "pre_final_lab['urinary_creatinine']=pre_final_lab['urinary_creatinine'].ffill(limit=5)\n",
    "pre_final_lab['paO2_FiO2']=pre_final_lab['paO2_FiO2'].bfill(limit=5)\n",
    "pre_final_lab['platelets_x_1000']=pre_final_lab['platelets_x_1000'].bfill(limit=5)\n",
    "pre_final_lab['total_bilirubin']=pre_final_lab['total_bilirubin'].bfill(limit=5)\n",
    "pre_final_lab['urinary_creatinine']=pre_final_lab['urinary_creatinine'].bfill(limit=5)\n",
    "\n"
   ]
  },
  {
   "cell_type": "code",
   "execution_count": 13,
   "metadata": {},
   "outputs": [],
   "source": [
    "del pre_final_lab['labname']"
   ]
  },
  {
   "cell_type": "code",
   "execution_count": null,
   "metadata": {},
   "outputs": [],
   "source": [
    "pre_final_lab.head()"
   ]
  },
  {
   "cell_type": "code",
   "execution_count": 15,
   "metadata": {},
   "outputs": [],
   "source": [
    "pre_final_lab.to_csv('labs_updated.csv',sep=',',index=False,encoding='utf-8')"
   ]
  },
  {
   "cell_type": "markdown",
   "metadata": {},
   "source": [
    "<h4>Adding additional parameters from physionet challenge data</h4>"
   ]
  },
  {
   "cell_type": "code",
   "execution_count": 3,
   "metadata": {},
   "outputs": [],
   "source": [
    "df_lab=pd.read_csv('lab.csv',chunksize=100000)"
   ]
  },
  {
   "cell_type": "code",
   "execution_count": 4,
   "metadata": {},
   "outputs": [
    {
     "name": "stderr",
     "output_type": "stream",
     "text": [
      "C:\\ProgramData\\Anaconda3\\lib\\site-packages\\IPython\\core\\interactiveshell.py:3049: DtypeWarning: Columns (6) have mixed types. Specify dtype option on import or set low_memory=False.\n",
      "  interactivity=interactivity, compiler=compiler, result=result)\n"
     ]
    }
   ],
   "source": [
    "arr=[]\n",
    "for chunk in df_lab:\n",
    "    arr.append(chunk)"
   ]
  },
  {
   "cell_type": "code",
   "execution_count": 5,
   "metadata": {},
   "outputs": [],
   "source": [
    "df_lab=pd.concat(arr,sort=False)"
   ]
  },
  {
   "cell_type": "code",
   "execution_count": 21,
   "metadata": {},
   "outputs": [],
   "source": [
    "df_to_join=df_lab.loc[(df_lab['labname'].str.contains('HCO3')) | \n",
    "           (df_lab['labname'].str.contains('pH')) |\n",
    "           (df_lab['labname'].str.contains('paCO2',case=False)) |\n",
    "           (df_lab['labname'].str.contains('direct',case=False)) |\n",
    "           (df_lab['labname'].str.contains('excess',case=False)) |\n",
    "           (df_lab['labname'].str.contains('ast',case=False)) |\n",
    "           (df_lab['labname'].str.contains('bun',case=False)) |\n",
    "           (df_lab['labname'].str.contains('Calcium',case=False)) |\n",
    "           (df_lab['labname'].str.contains('glucose',case=False)) |\n",
    "           (df_lab['labname'].str.contains('lactate',case=False)) |\n",
    "           (df_lab['labname'].str.contains('magnesium',case=False)) |\n",
    "           (df_lab['labname'].str.contains('phosphate',case=False)) |\n",
    "           (df_lab['labname'].str.contains('potassium',case=False)) |\n",
    "           (df_lab['labname'].str.contains('hct',case=False)) |\n",
    "           (df_lab['labname'].str.contains('hgb',case=False)) |\n",
    "           (df_lab['labname'].str.contains('ptt',case=False)) |\n",
    "           (df_lab['labname'].str.contains('WBC x 1000')) |\n",
    "           (df_lab['labname'].str.contains('fibrinogen',case=False)) |\n",
    "           (df_lab['labname'].str.contains('troponin',case=False))]"
   ]
  },
  {
   "cell_type": "code",
   "execution_count": 22,
   "metadata": {},
   "outputs": [],
   "source": [
    "df_to_join=df_to_join[['patientunitstayid','labresultoffset','labname','labresult']]"
   ]
  },
  {
   "cell_type": "code",
   "execution_count": 23,
   "metadata": {
    "scrolled": true
   },
   "outputs": [],
   "source": [
    "df_to_join.loc[df_to_join['labname'].str.contains('HCO3'),'HCO3']=df_to_join['labresult']\n",
    "df_to_join.loc[df_to_join['labname'].str.contains('pH'),'pH']=df_to_join['labresult']\n",
    "df_to_join.loc[df_to_join['labname'].str.contains('paCO2',case=False),'paCO2']=df_to_join['labresult']\n",
    "df_to_join.loc[df_to_join['labname'].str.contains('direct',case=False),'direct_bilirubin']=df_to_join['labresult']\n",
    "df_to_join.loc[df_to_join['labname'].str.contains('excess',case=False),'excess']=df_to_join['labresult']\n",
    "df_to_join.loc[df_to_join['labname'].str.contains('ast',case=False),'ast']=df_to_join['labresult']\n",
    "df_to_join.loc[df_to_join['labname'].str.contains('bun',case=False),'bun']=df_to_join['labresult']\n",
    "df_to_join.loc[df_to_join['labname'].str.contains('Calcium',case=False),'calcium']=df_to_join['labresult']\n",
    "df_to_join.loc[df_to_join['labname'].str.contains('glucose',case=False),'glucose']=df_to_join['labresult']\n",
    "df_to_join.loc[df_to_join['labname'].str.contains('lactate',case=False),'lactate']=df_to_join['labresult']\n",
    "df_to_join.loc[df_to_join['labname'].str.contains('magnesium',case=False),'magnesium']=df_to_join['labresult']\n",
    "df_to_join.loc[df_to_join['labname'].str.contains('phosphate',case=False),'phosphate']=df_to_join['labresult']\n",
    "df_to_join.loc[df_to_join['labname'].str.contains('potassium',case=False),'potassium']=df_to_join['labresult']\n",
    "df_to_join.loc[df_to_join['labname'].str.contains('hct',case=False),'hct']=df_to_join['labresult']\n",
    "df_to_join.loc[df_to_join['labname'].str.contains('hgb',case=False),'hgb']=df_to_join['labresult']\n",
    "df_to_join.loc[df_to_join['labname'].str.contains('ptt',case=False),'ptt']=df_to_join['labresult']\n",
    "df_to_join.loc[df_to_join['labname'].str.contains('WBC x 1000'),'wbc']=df_to_join['labresult']\n",
    "df_to_join.loc[df_to_join['labname'].str.contains('fibrinogen',case=False),'fibrinogen']=df_to_join['labresult']\n",
    "df_to_join.loc[df_to_join['labname'].str.contains('troponin',case=False),'troponin']=df_to_join['labresult']"
   ]
  },
  {
   "cell_type": "code",
   "execution_count": 24,
   "metadata": {},
   "outputs": [],
   "source": [
    "del df_lab"
   ]
  },
  {
   "cell_type": "code",
   "execution_count": 25,
   "metadata": {},
   "outputs": [],
   "source": [
    "df_to_join=df_to_join.drop(columns=['labname','labresult'])"
   ]
  },
  {
   "cell_type": "code",
   "execution_count": 26,
   "metadata": {
    "scrolled": true
   },
   "outputs": [],
   "source": [
    "#import the labs_updated.csv to join\n",
    "labs_to_join=pd.read_csv(\"labs_updated_with_creatinine.csv\")"
   ]
  },
  {
   "cell_type": "code",
   "execution_count": 27,
   "metadata": {},
   "outputs": [],
   "source": [
    "labs_new=pd.merge(labs_to_join,df_to_join,on=['patientunitstayid','labresultoffset'],how='outer')\n",
    "labs_new=labs_new.drop_duplicates()\n",
    "labs_new=labs_new.groupby(['patientunitstayid','labresultoffset'],as_index=False).max()"
   ]
  },
  {
   "cell_type": "code",
   "execution_count": null,
   "metadata": {},
   "outputs": [],
   "source": [
    "mrevars=pd.read_csv(\"labs_morevars.csv\")\n"
   ]
  },
  {
   "cell_type": "code",
   "execution_count": 20,
   "metadata": {},
   "outputs": [
    {
     "data": {
      "text/plain": [
       "14175"
      ]
     },
     "execution_count": 20,
     "metadata": {},
     "output_type": "execute_result"
    }
   ],
   "source": [
    "len(mrevars.loc[mrevars['patientunitstayid'].isin(cases)]['patientunitstayid'].unique())"
   ]
  },
  {
   "cell_type": "code",
   "execution_count": null,
   "metadata": {},
   "outputs": [],
   "source": []
  }
 ],
 "metadata": {
  "kernelspec": {
   "display_name": "Python 3",
   "language": "python",
   "name": "python3"
  },
  "language_info": {
   "codemirror_mode": {
    "name": "ipython",
    "version": 3
   },
   "file_extension": ".py",
   "mimetype": "text/x-python",
   "name": "python",
   "nbconvert_exporter": "python",
   "pygments_lexer": "ipython3",
   "version": "3.7.3"
  }
 },
 "nbformat": 4,
 "nbformat_minor": 2
}

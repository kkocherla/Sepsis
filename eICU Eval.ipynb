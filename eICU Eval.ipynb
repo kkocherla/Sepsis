{
 "cells": [
  {
   "cell_type": "code",
   "execution_count": 1,
   "metadata": {},
   "outputs": [],
   "source": [
    "import pandas as pd\n",
    "import numpy as np\n",
    "\n",
    "df=pd.read_csv(\"diagnosis.csv\")"
   ]
  },
  {
   "cell_type": "code",
   "execution_count": null,
   "metadata": {},
   "outputs": [],
   "source": [
    "df.head()"
   ]
  },
  {
   "cell_type": "code",
   "execution_count": 3,
   "metadata": {},
   "outputs": [
    {
     "data": {
      "text/plain": [
       "array(['cardiovascular|chest pain / ASHD|coronary artery disease|known',\n",
       "       'cardiovascular|ventricular disorders|cardiomyopathy',\n",
       "       'pulmonary|disorders of the airways|COPD', ...,\n",
       "       'endocrine|pituitary and temperature regulation|hypopituitarism|etiology unknown',\n",
       "       'pulmonary|pulmonary infections|pneumonia|ventilator-associated|bacterial|H influenzae',\n",
       "       'burns/trauma|trauma- head and neck|open neck injury|open injury to neck-left|zone II'],\n",
       "      dtype=object)"
      ]
     },
     "execution_count": 3,
     "metadata": {},
     "output_type": "execute_result"
    }
   ],
   "source": [
    "df[\"diagnosisstring\"].unique()"
   ]
  },
  {
   "cell_type": "code",
   "execution_count": 4,
   "metadata": {},
   "outputs": [
    {
     "data": {
      "text/plain": [
       "3933"
      ]
     },
     "execution_count": 4,
     "metadata": {},
     "output_type": "execute_result"
    }
   ],
   "source": [
    "len(df[\"diagnosisstring\"].unique())"
   ]
  },
  {
   "cell_type": "code",
   "execution_count": 6,
   "metadata": {},
   "outputs": [],
   "source": [
    "count=0\n",
    "index=0\n",
    "sepsis=[]\n",
    "scd=[]\n",
    "icdcodes=[]\n",
    "substring_list=[\"sepsis\"]\n",
    "\n",
    "for row in df['diagnosisstring'].iloc[:].values:\n",
    "    if(any(substring in row for substring in substring_list)):\n",
    "        \n",
    "        count+=1\n",
    "        fever.append(row)\n",
    "    index+=1\n",
    "    \n"
   ]
  },
  {
   "cell_type": "code",
   "execution_count": 7,
   "metadata": {
    "scrolled": true
   },
   "outputs": [
    {
     "name": "stdout",
     "output_type": "stream",
     "text": [
      "115375\n"
     ]
    }
   ],
   "source": [
    "print(count)"
   ]
  },
  {
   "cell_type": "code",
   "execution_count": 8,
   "metadata": {},
   "outputs": [
    {
     "name": "stdout",
     "output_type": "stream",
     "text": [
      "['cardiovascular|shock / hypotension|sepsis'\n",
      " 'cardiovascular|shock / hypotension|sepsis|sepsis with multi-organ dysfunction'\n",
      " 'cardiovascular|shock / hypotension|sepsis|sepsis with single organ dysfunction- acute renal failure'\n",
      " 'cardiovascular|shock / hypotension|sepsis|sepsis with single organ dysfunction- acute respiratory failure'\n",
      " 'cardiovascular|shock / hypotension|sepsis|sepsis with single organ dysfunction- circulatory system failure'\n",
      " 'cardiovascular|shock / hypotension|sepsis|sepsis with single organ dysfunction- congestive heart failure'\n",
      " 'cardiovascular|shock / hypotension|sepsis|sepsis with single organ dysfunction- critical care myopathy'\n",
      " 'cardiovascular|shock / hypotension|sepsis|sepsis with single organ dysfunction- critical care neuropathy'\n",
      " 'cardiovascular|shock / hypotension|sepsis|sepsis with single organ dysfunction- metabolic encephalopathy'\n",
      " 'cardiovascular|shock / hypotension|sepsis|sepsis with single organ dysfunction-acute hepatic failure'\n",
      " 'cardiovascular|shock / hypotension|sepsis|severe'\n",
      " 'cardiovascular|shock / hypotension|signs and symptoms of sepsis (SIRS)'\n",
      " 'cardiovascular|shock / hypotension|signs and symptoms of sepsis (SIRS)|due to infectious process with organ dysfunction'\n",
      " 'cardiovascular|shock / hypotension|signs and symptoms of sepsis (SIRS)|due to infectious process without organ dysfunction'\n",
      " 'cardiovascular|shock / hypotension|signs and symptoms of sepsis (SIRS)|due to non-infectious process with organ dysfunction'\n",
      " 'cardiovascular|shock / hypotension|signs and symptoms of sepsis (SIRS)|due to non-infectious process without organ dysfunction'\n",
      " 'cardiovascular|vascular disorders|arterial thromboembolism|due to sepsis'\n",
      " 'cardiovascular|vascular disorders|peripheral vascular ischemia|due to sepsis'\n",
      " 'endocrine|fluids and electrolytes|hypocalcemia|due to sepsis'\n",
      " 'hematology|coagulation disorders|DIC syndrome|associated with sepsis/septic shock'\n",
      " 'infectious diseases|systemic/other infections|sepsis'\n",
      " 'infectious diseases|systemic/other infections|sepsis|sepsis with multi-organ dysfunction syndrome'\n",
      " 'infectious diseases|systemic/other infections|sepsis|sepsis with single organ dysfunction- acute renal failure'\n",
      " 'infectious diseases|systemic/other infections|sepsis|sepsis with single organ dysfunction- acute respiratory failure'\n",
      " 'infectious diseases|systemic/other infections|sepsis|sepsis with single organ dysfunction- circulatory system failure'\n",
      " 'infectious diseases|systemic/other infections|sepsis|sepsis with single organ dysfunction- congestive heart failure'\n",
      " 'infectious diseases|systemic/other infections|sepsis|sepsis with single organ dysfunction- metabolic encephalopathy'\n",
      " 'infectious diseases|systemic/other infections|sepsis|sepsis with single organ dysfunction-acute hepatic failure'\n",
      " 'infectious diseases|systemic/other infections|sepsis|severe'\n",
      " 'infectious diseases|systemic/other infections|signs and symptoms of sepsis (SIRS)'\n",
      " 'infectious diseases|systemic/other infections|signs and symptoms of sepsis (SIRS)|due to infectious process with organ dysfunction'\n",
      " 'infectious diseases|systemic/other infections|signs and symptoms of sepsis (SIRS)|due to infectious process without organ dysfunction'\n",
      " 'infectious diseases|systemic/other infections|signs and symptoms of sepsis (SIRS)|due to non-infectious process with organ dysfunction'\n",
      " 'infectious diseases|systemic/other infections|signs and symptoms of sepsis (SIRS)|due to non-infectious process without organ dysfunction'\n",
      " 'pulmonary|respiratory failure|ARDS|non-pulmonary etiology|sepsis'\n",
      " 'pulmonary|respiratory failure|acute lung injury|non-pulmonary etiology|sepsis'\n",
      " 'renal|disorder of kidney|acute renal failure|due to sepsis'\n",
      " 'renal|electrolyte imbalance|hypocalcemia|due to sepsis'\n",
      " 'surgery|infections|sepsis'\n",
      " 'surgery|infections|sepsis|sepsis with multi-organ dysfunction syndrome'\n",
      " 'surgery|infections|sepsis|sepsis with single organ dysfunction- acute renal failure'\n",
      " 'surgery|infections|sepsis|sepsis with single organ dysfunction- acute respiratory failure'\n",
      " 'surgery|infections|sepsis|sepsis with single organ dysfunction- circulatory system failure'\n",
      " 'surgery|infections|sepsis|sepsis with single organ dysfunction- congestive heart failure'\n",
      " 'surgery|infections|sepsis|sepsis with single organ dysfunction- critical care myopathy'\n",
      " 'surgery|infections|sepsis|sepsis with single organ dysfunction- metabolic encephalopathy'\n",
      " 'surgery|infections|sepsis|severe'\n",
      " 'surgery|infections|signs and symptoms of sepsis (SIRS)'\n",
      " 'surgery|infections|signs and symptoms of sepsis (SIRS)|due to infectious process with organ dysfunction'\n",
      " 'surgery|infections|signs and symptoms of sepsis (SIRS)|due to infectious process without organ dysfunction'\n",
      " 'surgery|infections|signs and symptoms of sepsis (SIRS)|due to non-infectious process with organ dysfunction'\n",
      " 'surgery|infections|signs and symptoms of sepsis (SIRS)|due to non-infectious process without organ dysfunction'\n",
      " 'surgery|renal issues|acute renal failure|due to sepsis']\n"
     ]
    }
   ],
   "source": [
    "print(np.unique(sepsis))"
   ]
  },
  {
   "cell_type": "code",
   "execution_count": 9,
   "metadata": {},
   "outputs": [
    {
     "name": "stdout",
     "output_type": "stream",
     "text": [
      "53\n"
     ]
    }
   ],
   "source": [
    "print(len(np.unique(sepsis)))"
   ]
  },
  {
   "cell_type": "code",
   "execution_count": 7,
   "metadata": {},
   "outputs": [
    {
     "name": "stdout",
     "output_type": "stream",
     "text": [
      "482\n"
     ]
    }
   ],
   "source": [
    "print(len(scd))"
   ]
  },
  {
   "cell_type": "code",
   "execution_count": 10,
   "metadata": {},
   "outputs": [
    {
     "data": {
      "text/plain": [
       "1209"
      ]
     },
     "execution_count": 10,
     "metadata": {},
     "output_type": "execute_result"
    }
   ],
   "source": [
    "len(df['icd9code'].unique())"
   ]
  },
  {
   "cell_type": "code",
   "execution_count": 38,
   "metadata": {},
   "outputs": [],
   "source": []
  },
  {
   "cell_type": "code",
   "execution_count": null,
   "metadata": {},
   "outputs": [],
   "source": []
  },
  {
   "cell_type": "code",
   "execution_count": 11,
   "metadata": {},
   "outputs": [
    {
     "data": {
      "text/plain": [
       "0          414.00, I25.10\n",
       "1                    null\n",
       "2           491.20, J44.9\n",
       "3           491.20, J44.9\n",
       "4            428.0, I50.9\n",
       "5           427.31, I48.0\n",
       "6            585.9, N18.9\n",
       "7          414.00, I25.10\n",
       "8            428.0, I50.9\n",
       "9                    null\n",
       "10           585.9, N18.9\n",
       "11          427.31, I48.0\n",
       "12                   null\n",
       "13                 518.82\n",
       "14                   null\n",
       "15             294.9, F03\n",
       "16                   null\n",
       "17          345.90, R56.9\n",
       "18          345.90, R56.9\n",
       "19             294.9, F03\n",
       "20                   null\n",
       "21           286.9, D68.9\n",
       "22           286.9, D68.9\n",
       "23                   null\n",
       "24                 518.82\n",
       "25                   null\n",
       "26                   null\n",
       "27                   null\n",
       "28                   null\n",
       "29           038.9, A41.9\n",
       "                ...      \n",
       "2710642      599.0, N39.0\n",
       "2710643      427.5, I46.9\n",
       "2710644      038.9, A41.9\n",
       "2710645      427.5, I46.9\n",
       "2710646      427.5, I46.9\n",
       "2710647      038.9, A41.9\n",
       "2710648     410.90, I21.3\n",
       "2710649      584.9, N17.9\n",
       "2710650      427.5, I46.9\n",
       "2710651     410.90, I21.3\n",
       "2710652        486, J18.9\n",
       "2710653    518.81, J96.00\n",
       "2710654     410.90, I21.3\n",
       "2710655     410.90, I21.3\n",
       "2710656      038.9, A41.9\n",
       "2710657      584.9, N17.9\n",
       "2710658      038.9, A41.9\n",
       "2710659     410.90, I21.3\n",
       "2710660        486, J18.9\n",
       "2710661    518.81, J96.00\n",
       "2710662    518.81, J96.00\n",
       "2710663      599.0, N39.0\n",
       "2710664     410.90, I21.3\n",
       "2710665      599.0, N39.0\n",
       "2710666      599.0, N39.0\n",
       "2710667      599.0, N39.0\n",
       "2710668      038.9, A41.9\n",
       "2710669      584.9, N17.9\n",
       "2710670      578.9, K92.2\n",
       "2710671    415.19, I26.99\n",
       "Name: icd9code, Length: 2710672, dtype: object"
      ]
     },
     "execution_count": 11,
     "metadata": {},
     "output_type": "execute_result"
    }
   ],
   "source": [
    "df['icd9code'].astype(object).fillna(\"null\")"
   ]
  },
  {
   "cell_type": "code",
   "execution_count": null,
   "metadata": {},
   "outputs": [],
   "source": [
    "df.head()\n"
   ]
  },
  {
   "cell_type": "code",
   "execution_count": 13,
   "metadata": {},
   "outputs": [],
   "source": [
    "count_icd=0\n",
    "icd_codes=[]\n",
    "subs_str=['282.41','282.42','282.5','282.60','282.63','282.64','282.68','282.69','V782','282.62','282.50','282.65']"
   ]
  },
  {
   "cell_type": "code",
   "execution_count": null,
   "metadata": {},
   "outputs": [],
   "source": [
    "for row in df['icd9code'].iloc[:].values:\n",
    "    if(any(subs in row for subs in subs_str)):\n",
    "        count_icd+=1\n",
    "        icd_codes.append(row)\n",
    "    \n",
    "        "
   ]
  },
  {
   "cell_type": "code",
   "execution_count": null,
   "metadata": {},
   "outputs": [],
   "source": []
  },
  {
   "cell_type": "code",
   "execution_count": null,
   "metadata": {},
   "outputs": [],
   "source": []
  },
  {
   "cell_type": "code",
   "execution_count": null,
   "metadata": {},
   "outputs": [],
   "source": []
  },
  {
   "cell_type": "code",
   "execution_count": 26,
   "metadata": {},
   "outputs": [
    {
     "name": "stdout",
     "output_type": "stream",
     "text": [
      "0\n"
     ]
    }
   ],
   "source": [
    "print(count_icd)"
   ]
  },
  {
   "cell_type": "code",
   "execution_count": null,
   "metadata": {},
   "outputs": [],
   "source": []
  }
 ],
 "metadata": {
  "kernelspec": {
   "display_name": "Python 3",
   "language": "python",
   "name": "python3"
  },
  "language_info": {
   "codemirror_mode": {
    "name": "ipython",
    "version": 3
   },
   "file_extension": ".py",
   "mimetype": "text/x-python",
   "name": "python",
   "nbconvert_exporter": "python",
   "pygments_lexer": "ipython3",
   "version": "3.7.3"
  }
 },
 "nbformat": 4,
 "nbformat_minor": 2
}

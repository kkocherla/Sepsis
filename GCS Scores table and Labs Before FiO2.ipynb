{
 "cells": [
  {
   "cell_type": "code",
   "execution_count": 2,
   "metadata": {},
   "outputs": [],
   "source": [
    "import pandas as pd\n",
    "import numpy as np"
   ]
  },
  {
   "cell_type": "code",
   "execution_count": 4,
   "metadata": {},
   "outputs": [
    {
     "name": "stdout",
     "output_type": "stream",
     "text": [
      "15161\n"
     ]
    }
   ],
   "source": [
    "count=0\n",
    "for chunk in pd.read_csv(\"nurseCharting.csv\", chunksize=10000, usecols=[0]):\n",
    "    count+=1\n",
    "print(count)"
   ]
  },
  {
   "cell_type": "code",
   "execution_count": 6,
   "metadata": {},
   "outputs": [
    {
     "name": "stdout",
     "output_type": "stream",
     "text": [
      "rows 151610000\n"
     ]
    }
   ],
   "source": [
    "print(\"rows\",15161*10000)"
   ]
  },
  {
   "cell_type": "markdown",
   "metadata": {},
   "source": [
    "151 millions rows in nurseCharting, chunking is inevitable"
   ]
  },
  {
   "cell_type": "code",
   "execution_count": 7,
   "metadata": {},
   "outputs": [],
   "source": [
    "l_nursechart=[]\n",
    "for chunk in pd.read_csv(\"nurseCharting.csv\", chunksize=10000, usecols=[1, 3, 4, 5, 7]):\n",
    "    df=chunk.loc[(chunk['nursingchartcelltypecat']=='Scores') & (chunk['nursingchartcelltypevallabel']=='Glasgow coma score')]\n",
    "    l_nursechart.append(df)"
   ]
  },
  {
   "cell_type": "code",
   "execution_count": 8,
   "metadata": {},
   "outputs": [],
   "source": [
    "df_nursechart=pd.concat(l_nursechart, sort=False)"
   ]
  },
  {
   "cell_type": "code",
   "execution_count": null,
   "metadata": {},
   "outputs": [],
   "source": [
    "df_nursechartrt.head()"
   ]
  },
  {
   "cell_type": "code",
   "execution_count": 10,
   "metadata": {},
   "outputs": [
    {
     "data": {
      "text/plain": [
       "(11497735, 5)"
      ]
     },
     "execution_count": 10,
     "metadata": {},
     "output_type": "execute_result"
    }
   ],
   "source": [
    "df_nursechart.shape"
   ]
  },
  {
   "cell_type": "code",
   "execution_count": 11,
   "metadata": {},
   "outputs": [],
   "source": [
    "import csv"
   ]
  },
  {
   "cell_type": "code",
   "execution_count": 12,
   "metadata": {},
   "outputs": [],
   "source": [
    "df_nursechart.to_csv(\"gcs_scores.csv\",sep=',',index=False,encoding='utf-8')"
   ]
  },
  {
   "cell_type": "code",
   "execution_count": 3,
   "metadata": {},
   "outputs": [
    {
     "name": "stderr",
     "output_type": "stream",
     "text": [
      "C:\\ProgramData\\Anaconda3\\lib\\site-packages\\IPython\\core\\interactiveshell.py:3049: DtypeWarning: Columns (4) have mixed types. Specify dtype option on import or set low_memory=False.\n",
      "  interactivity=interactivity, compiler=compiler, result=result)\n"
     ]
    }
   ],
   "source": [
    "df_gcs=pd.read_csv(\"gcs_scores.csv\")"
   ]
  },
  {
   "cell_type": "code",
   "execution_count": null,
   "metadata": {},
   "outputs": [],
   "source": [
    "df_gcs.head()"
   ]
  },
  {
   "cell_type": "markdown",
   "metadata": {},
   "source": [
    "<h4>Make a column only of GCS scores</h4>"
   ]
  },
  {
   "cell_type": "code",
   "execution_count": 5,
   "metadata": {},
   "outputs": [],
   "source": [
    "df_gcs['GCS_Score']=np.nan"
   ]
  },
  {
   "cell_type": "code",
   "execution_count": 6,
   "metadata": {},
   "outputs": [
    {
     "data": {
      "text/plain": [
       "patientunitstayid                 int64\n",
       "nursingchartentryoffset           int64\n",
       "nursingchartcelltypecat          object\n",
       "nursingchartcelltypevallabel     object\n",
       "nursingchartvalue                object\n",
       "GCS_Score                       float64\n",
       "dtype: object"
      ]
     },
     "execution_count": 6,
     "metadata": {},
     "output_type": "execute_result"
    }
   ],
   "source": [
    "df_gcs.dtypes"
   ]
  },
  {
   "cell_type": "code",
   "execution_count": null,
   "metadata": {
    "scrolled": true
   },
   "outputs": [],
   "source": [
    "df_gcs['nursingchartvalue']=df_gcs['nursingchartvalue'].astype('float64')"
   ]
  },
  {
   "cell_type": "markdown",
   "metadata": {},
   "source": [
    "If needed<br>\n",
    "df_gcs['nursingchartvalue']=df_gcs['nursingchartvalue'].ffill()<br>\n",
    "df_gcs['nursingchartvalue']=df_gcs['nursingchartvalue'].bfill()"
   ]
  },
  {
   "cell_type": "markdown",
   "metadata": {},
   "source": [
    "Removing all such entries with chartvalue==\"Unable to score due to medication\""
   ]
  },
  {
   "cell_type": "code",
   "execution_count": 8,
   "metadata": {},
   "outputs": [],
   "source": [
    "df_gcs=df_gcs.loc[~df_gcs['nursingchartvalue'].str.contains(\"unable\",case=False,na=False)]"
   ]
  },
  {
   "cell_type": "code",
   "execution_count": 9,
   "metadata": {},
   "outputs": [
    {
     "data": {
      "text/plain": [
       "True"
      ]
     },
     "execution_count": 9,
     "metadata": {},
     "output_type": "execute_result"
    }
   ],
   "source": [
    "any(df_gcs['nursingchartvalue'].isna())"
   ]
  },
  {
   "cell_type": "markdown",
   "metadata": {},
   "source": [
    "Now, we crosscheck rows where the column <b>nursingchartvalue</b> is throwing float value error. As we can see, we have cleared all the fault cases."
   ]
  },
  {
   "cell_type": "code",
   "execution_count": 11,
   "metadata": {},
   "outputs": [],
   "source": [
    "index=0\n",
    "count=0\n",
    "for value in df_gcs['nursingchartvalue']:\n",
    "    index+=1\n",
    "    try:\n",
    "        x=float(value)\n",
    "    except ValueError as e:\n",
    "        count+=1\n",
    "        print(\"error\",e,\"in line\",index)"
   ]
  },
  {
   "cell_type": "code",
   "execution_count": 10,
   "metadata": {},
   "outputs": [
    {
     "data": {
      "text/plain": [
       "11419171"
      ]
     },
     "execution_count": 10,
     "metadata": {},
     "output_type": "execute_result"
    }
   ],
   "source": [
    "len(df_gcs)"
   ]
  },
  {
   "cell_type": "code",
   "execution_count": 11,
   "metadata": {},
   "outputs": [],
   "source": [
    "df_gcs[['GCS_Score']]=df_gcs[['nursingchartvalue']]"
   ]
  },
  {
   "cell_type": "code",
   "execution_count": 19,
   "metadata": {},
   "outputs": [],
   "source": [
    "del df_gcs['nursingchartvalue']\n",
    "df_gcs.to_csv(\"gcs_scores_updated.csv\",sep=',',index=False,encoding='utf-8')"
   ]
  },
  {
   "cell_type": "code",
   "execution_count": 12,
   "metadata": {},
   "outputs": [],
   "source": [
    "#Adding SOFA Scores\n",
    "d_gcs=pd.read_csv('gcs_scores_updated.csv')\n",
    "columns=['patientunitstayid','nursingchartentryoffset','GCS_Score']\n",
    "d_gcs=d_gcs[columns]\n",
    "d_gcs=d_gcs.dropna()\n",
    "\n",
    "d_gcs.loc[d_gcs['GCS_Score']>=15,'SOFA_GCS']=0\n",
    "d_gcs.loc[d_gcs['GCS_Score']<15,'SOFA_GCS']=1\n",
    "d_gcs.loc[d_gcs['GCS_Score']<13,'SOFA_GCS']=2\n",
    "d_gcs.loc[d_gcs['GCS_Score']<10,'SOFA_GCS']=3\n",
    "d_gcs.loc[d_gcs['GCS_Score']<6,'SOFA_GCS']=4\n",
    "\n",
    "d_gcs=d_gcs.rename(columns={'nursingchartentryoffset':'offset'})"
   ]
  },
  {
   "cell_type": "code",
   "execution_count": null,
   "metadata": {},
   "outputs": [],
   "source": [
    "d_gcs.head()"
   ]
  },
  {
   "cell_type": "code",
   "execution_count": 6,
   "metadata": {},
   "outputs": [],
   "source": [
    "d_gcs.to_csv(\"gcs_withSOFA.csv\",index=False)"
   ]
  },
  {
   "cell_type": "code",
   "execution_count": null,
   "metadata": {},
   "outputs": [],
   "source": []
  },
  {
   "cell_type": "code",
   "execution_count": 13,
   "metadata": {},
   "outputs": [],
   "source": [
    "l_labs=[]\n",
    "for chunk in pd.read_csv(\"lab.csv\",chunksize=10000, usecols=[1, 2, 4, 5, 7, 8, 9]):\n",
    "    df=chunk.loc[(chunk['labname']=='paO2') | (chunk['labname']=='platelets x 1000') | \n",
    "                (chunk['labname']=='total bilirubin') | (chunk['labname']=='urinary creatinine')]\n",
    "    l_labs.append(df)\n",
    "df_labs=pd.concat(l_labs, sort=False)\n"
   ]
  },
  {
   "cell_type": "code",
   "execution_count": null,
   "metadata": {},
   "outputs": [],
   "source": [
    "df_labs.head()"
   ]
  },
  {
   "cell_type": "code",
   "execution_count": 15,
   "metadata": {},
   "outputs": [],
   "source": [
    "df_labs.to_csv(\"labs_before_FiO2.csv\", sep=',', index=False, encoding='utf-8')"
   ]
  },
  {
   "cell_type": "code",
   "execution_count": 16,
   "metadata": {},
   "outputs": [
    {
     "data": {
      "text/plain": [
       "(2010839, 7)"
      ]
     },
     "execution_count": 16,
     "metadata": {},
     "output_type": "execute_result"
    }
   ],
   "source": [
    "df_labs.shape"
   ]
  },
  {
   "cell_type": "markdown",
   "metadata": {},
   "source": [
    "<h1>Continue from here</h1>"
   ]
  },
  {
   "cell_type": "code",
   "execution_count": 2,
   "metadata": {},
   "outputs": [],
   "source": [
    "l_map=[]\n",
    "for chunk in pd.read_csv(\"nurseCharting.csv\", chunksize=10000, usecols=[1, 3, 4, 5, 7]):\n",
    "    df=chunk.loc[(chunk['nursingchartcelltypevallabel']=='MAP (mmHg)')]\n",
    "    l_map.append(df)\n"
   ]
  },
  {
   "cell_type": "code",
   "execution_count": 3,
   "metadata": {},
   "outputs": [],
   "source": [
    "df_map=pd.concat(l_map,sort=False)"
   ]
  },
  {
   "cell_type": "code",
   "execution_count": null,
   "metadata": {},
   "outputs": [],
   "source": [
    "df_map.head()"
   ]
  },
  {
   "cell_type": "code",
   "execution_count": 5,
   "metadata": {},
   "outputs": [],
   "source": [
    "df_map.to_csv(\"nursechartMAP.csv\",index=False)"
   ]
  },
  {
   "cell_type": "code",
   "execution_count": 6,
   "metadata": {},
   "outputs": [],
   "source": [
    "l_vent=[]\n",
    "for chunk in pd.read_csv(\"nurseCharting.csv\", chunksize=10000, usecols=[1, 3, 4, 5, 7]):\n",
    "    df=chunk.loc[(chunk['nursingchartcelltypevallabel']=='O2 Admin Device')]\n",
    "    l_vent.append(df)\n",
    "df_vent=pd.concat(l_vent,sort=False)\n",
    "df_vent.to_csv(\"nursechartVent.csv\",index=False)"
   ]
  },
  {
   "cell_type": "code",
   "execution_count": null,
   "metadata": {},
   "outputs": [],
   "source": []
  }
 ],
 "metadata": {
  "kernelspec": {
   "display_name": "Python 3",
   "language": "python",
   "name": "python3"
  },
  "language_info": {
   "codemirror_mode": {
    "name": "ipython",
    "version": 3
   },
   "file_extension": ".py",
   "mimetype": "text/x-python",
   "name": "python",
   "nbconvert_exporter": "python",
   "pygments_lexer": "ipython3",
   "version": "3.7.3"
  }
 },
 "nbformat": 4,
 "nbformat_minor": 2
}

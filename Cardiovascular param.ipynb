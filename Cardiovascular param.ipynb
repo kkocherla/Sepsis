{
 "cells": [
  {
   "cell_type": "code",
   "execution_count": 1,
   "metadata": {},
   "outputs": [],
   "source": [
    "import pandas as pd\n",
    "import numpy as np\n",
    "import csv"
   ]
  },
  {
   "cell_type": "code",
   "execution_count": null,
   "metadata": {},
   "outputs": [],
   "source": [
    "infusiondrug=pd.read_csv(\"infusionDrug.csv\")\n",
    "infusiondrug.head()"
   ]
  },
  {
   "cell_type": "code",
   "execution_count": 3,
   "metadata": {},
   "outputs": [
    {
     "data": {
      "text/plain": [
       "infusiondrugid         int64\n",
       "patientunitstayid      int64\n",
       "infusionoffset         int64\n",
       "drugname              object\n",
       "drugrate              object\n",
       "infusionrate         float64\n",
       "drugamount           float64\n",
       "volumeoffluid        float64\n",
       "patientweight        float64\n",
       "dtype: object"
      ]
     },
     "execution_count": 3,
     "metadata": {},
     "output_type": "execute_result"
    }
   ],
   "source": [
    "infusiondrug.dtypes"
   ]
  },
  {
   "cell_type": "code",
   "execution_count": 4,
   "metadata": {},
   "outputs": [],
   "source": [
    "infusiondrug['drugname']=infusiondrug['drugname'].astype('str')"
   ]
  },
  {
   "cell_type": "code",
   "execution_count": 5,
   "metadata": {},
   "outputs": [
    {
     "data": {
      "text/plain": [
       "False"
      ]
     },
     "execution_count": 5,
     "metadata": {},
     "output_type": "execute_result"
    }
   ],
   "source": [
    "any(infusiondrug['drugname'].isnull())"
   ]
  },
  {
   "cell_type": "code",
   "execution_count": 6,
   "metadata": {},
   "outputs": [],
   "source": [
    "drug_names=infusiondrug['drugname'].unique()"
   ]
  },
  {
   "cell_type": "code",
   "execution_count": 7,
   "metadata": {},
   "outputs": [
    {
     "name": "stdout",
     "output_type": "stream",
     "text": [
      "Dobutamine (mcg/kg/min)\n",
      "Dobutamine (mcg/min)\n",
      "Dobutamine (ml/hr)\n",
      "Dobutamine\n",
      "Dobutamine ()\n",
      "Dobutamine (mcg/kg/hr)\n",
      "Dobutamine (units/min)\n"
     ]
    }
   ],
   "source": [
    "for name in drug_names:\n",
    "    if(\"Dobuta\" in name):\n",
    "        print(name)"
   ]
  },
  {
   "cell_type": "code",
   "execution_count": null,
   "metadata": {},
   "outputs": [],
   "source": [
    "infusiondrug"
   ]
  },
  {
   "cell_type": "code",
   "execution_count": 9,
   "metadata": {},
   "outputs": [],
   "source": [
    "inf_drug=infusiondrug.loc[(infusiondrug['drugname'].str.contains(\"Dopamine\")) | \n",
    "                              (infusiondrug['drugname'].str.contains(\"Norepinephrine\")) | \n",
    "                              (infusiondrug['drugname'].str.contains(\"Epinephrine\")) | \n",
    "                               (infusiondrug['drugname'].str.contains(\"norepinephrine\")) | \n",
    "                               (infusiondrug['drugname'].str.contains(\"dopamine\")) | \n",
    "                              (infusiondrug['drugname'].str.contains(\"Dobutamine\"))]"
   ]
  },
  {
   "cell_type": "code",
   "execution_count": 10,
   "metadata": {},
   "outputs": [],
   "source": [
    "#infusiondrug.to_csv(\"cardiovascular_params.csv\", sep=',', index=False, encoding='utf-8')"
   ]
  },
  {
   "cell_type": "markdown",
   "metadata": {},
   "source": [
    "<h1>Continue from here</h1>"
   ]
  },
  {
   "cell_type": "code",
   "execution_count": 11,
   "metadata": {},
   "outputs": [],
   "source": [
    "#inf_drug=pd.read_csv('cardiovascular_params.csv')"
   ]
  },
  {
   "cell_type": "code",
   "execution_count": 12,
   "metadata": {},
   "outputs": [],
   "source": [
    "inf_drug_new=inf_drug.loc[inf_drug['drugname'].str.contains(\"\\(\")]"
   ]
  },
  {
   "cell_type": "code",
   "execution_count": 13,
   "metadata": {},
   "outputs": [
    {
     "name": "stderr",
     "output_type": "stream",
     "text": [
      "C:\\ProgramData\\Anaconda3\\lib\\site-packages\\ipykernel_launcher.py:1: SettingWithCopyWarning: \n",
      "A value is trying to be set on a copy of a slice from a DataFrame.\n",
      "Try using .loc[row_indexer,col_indexer] = value instead\n",
      "\n",
      "See the caveats in the documentation: http://pandas.pydata.org/pandas-docs/stable/indexing.html#indexing-view-versus-copy\n",
      "  \"\"\"Entry point for launching an IPython kernel.\n"
     ]
    }
   ],
   "source": [
    "inf_drug_new['unit']=\"\""
   ]
  },
  {
   "cell_type": "code",
   "execution_count": 14,
   "metadata": {},
   "outputs": [
    {
     "name": "stderr",
     "output_type": "stream",
     "text": [
      "C:\\ProgramData\\Anaconda3\\lib\\site-packages\\ipykernel_launcher.py:1: SettingWithCopyWarning: \n",
      "A value is trying to be set on a copy of a slice from a DataFrame.\n",
      "Try using .loc[row_indexer,col_indexer] = value instead\n",
      "\n",
      "See the caveats in the documentation: http://pandas.pydata.org/pandas-docs/stable/indexing.html#indexing-view-versus-copy\n",
      "  \"\"\"Entry point for launching an IPython kernel.\n"
     ]
    }
   ],
   "source": [
    "inf_drug_new['unit']=inf_drug_new['drugname'].apply(lambda x: x.split('(')[1])"
   ]
  },
  {
   "cell_type": "code",
   "execution_count": 15,
   "metadata": {},
   "outputs": [
    {
     "data": {
      "text/plain": [
       "array(['Norepinephrine (mcg/min)', 'Dopamine (mcg/kg/min)',\n",
       "       'Epinephrine (mcg/min)', 'Norepinephrine (ml/hr)',\n",
       "       'Norepinephrine ()', 'Dopamine (ml/hr)', 'Dobutamine (mcg/kg/min)',\n",
       "       'Norepinephrine (Unknown)', 'Norepinephrine (mcg/hr)',\n",
       "       'Norepinephrine (mcg/kg/min)', 'Norepinephrine (mg/hr)',\n",
       "       'Epinephrine (mcg/kg/min)', 'Epinephrine (ml/hr)',\n",
       "       'Norepinephrine (mcg/kg/hr)', 'Norepinephrine (mg/min)',\n",
       "       'Dobutamine (mcg/min)', 'Epinephrine (mcg/hr)', 'Dopamine ()',\n",
       "       'Dobutamine (ml/hr)', 'Dopamine (mcg/min)',\n",
       "       'dopamine (mcg/kg/min)', 'Epinephrine (mg/hr)',\n",
       "       'Epinephrine (mg/kg/min)', 'Dopamine (mcg/hr)',\n",
       "       'Norepinephrine (units/min)', 'Dobutamine ()',\n",
       "       'Dobutamine (mcg/kg/hr)', 'Dopamine (mg/hr)', 'Dopamine (Unknown)',\n",
       "       'Epinephrine ()', 'Dopamine (mcg/kg/hr)',\n",
       "       'Norepinephrine (mg/kg/min)', 'Dopamine (nanograms/kg/min)',\n",
       "       'norepinephrine Volume (ml) (ml/hr)', 'norepinephrine Volume (ml)',\n",
       "       'Dobutamine (units/min)',\n",
       "       'Norepinephrine STD 4 mg Dextrose 5% 250 ml (mcg/min)',\n",
       "       'Norepinephrine MAX 32 mg Dextrose 5% 250 ml (mcg/min)',\n",
       "       'Norepinephrine STD 8 mg Dextrose 5% 500 ml (mcg/min)',\n",
       "       'Norepinephrine STD 32 mg Dextrose 5% 500 ml (mcg/min)',\n",
       "       'Norepinephrine STD 4 mg Dextrose 5% 500 ml (mcg/min)',\n",
       "       'Norepinephrine MAX 32 mg Dextrose 5% 500 ml (mcg/min)',\n",
       "       'Norepinephrine STD 32 mg Dextrose 5% 282 ml (mcg/min)',\n",
       "       'Norepinephrine STD 8 mg Dextrose 5% 250 ml (mcg/min)'],\n",
       "      dtype=object)"
      ]
     },
     "execution_count": 15,
     "metadata": {},
     "output_type": "execute_result"
    }
   ],
   "source": [
    "inf_drug_new['drugname'].unique()"
   ]
  },
  {
   "cell_type": "code",
   "execution_count": 16,
   "metadata": {},
   "outputs": [],
   "source": [
    "inf_drug_filtered=inf_drug_new.loc[(inf_drug_new['unit'].str.contains(\"mcg/min\")) | (inf_drug_new['unit'].str.contains(\"mcg/kg/min\")) |\n",
    "                (inf_drug_new['unit'].str.contains(\"mcg/hr\")) | (inf_drug_new['unit'].str.contains(\"mg/hr\")) |\n",
    "                (inf_drug_new['unit'].str.contains(\"mcg/kg/hr\")) | (inf_drug_new['unit'].str.contains(\"mg/min\")) |\n",
    "                (inf_drug_new['unit'].str.contains(\"mg/kg/min\")) | (inf_drug_new['unit'].str.contains(\"nanograms/kg/min\"))]"
   ]
  },
  {
   "cell_type": "code",
   "execution_count": 17,
   "metadata": {},
   "outputs": [
    {
     "data": {
      "text/plain": [
       "337283"
      ]
     },
     "execution_count": 17,
     "metadata": {},
     "output_type": "execute_result"
    }
   ],
   "source": [
    "len(inf_drug_filtered)"
   ]
  },
  {
   "cell_type": "markdown",
   "metadata": {},
   "source": [
    "<h2>Now we begin to change the units to a uniform mcg/min or mcg/kg/min</h2>"
   ]
  },
  {
   "cell_type": "code",
   "execution_count": 18,
   "metadata": {},
   "outputs": [
    {
     "name": "stdout",
     "output_type": "stream",
     "text": [
      "error could not convert string to float: 'OFF\\\\.br\\\\\\\\.br\\\\' on line 320429\n",
      "error could not convert string to float: '30\\\\.br\\\\' on line 320970\n",
      "error could not convert string to float: '50 mcg/min' on line 322544\n",
      "error could not convert string to float: '50mcg/min\\\\.br\\\\' on line 322557\n",
      "error could not convert string to float: 'OFF' on line 322915\n",
      "error could not convert string to float: 'OFF' on line 322916\n",
      "error could not convert string to float: 'OFF' on line 322925\n",
      "error could not convert string to float: 'OFF' on line 329343\n",
      "error could not convert string to float: 'OFF' on line 329363\n",
      "error could not convert string to float: 'Documentation undone' on line 329443\n"
     ]
    }
   ],
   "source": [
    "floats=[]\n",
    "index=0\n",
    "for value in inf_drug_filtered['drugrate']:\n",
    "    index+=1\n",
    "    try:\n",
    "        x=float(value)\n",
    "    except ValueError as e:\n",
    "        print(\"error\",e,\"on line\",index)"
   ]
  },
  {
   "cell_type": "markdown",
   "metadata": {},
   "source": [
    "<h4>Delete these lines - in the above lines</h4>"
   ]
  },
  {
   "cell_type": "code",
   "execution_count": 19,
   "metadata": {},
   "outputs": [],
   "source": [
    "inf_drug_filtered=inf_drug_filtered.loc[~(inf_drug_filtered['drugrate']=='OFF\\\\.br\\\\\\\\.br\\\\') & ~(inf_drug_filtered['drugrate']=='30\\\\.br\\\\') &\n",
    "                     ~(inf_drug_filtered['drugrate']=='50 mcg/min') & ~(inf_drug_filtered['drugrate']=='50mcg/min\\\\.br\\\\') &\n",
    "                     ~(inf_drug_filtered['drugrate']=='OFF') & ~(inf_drug_filtered['drugrate']=='Documentation undone')]"
   ]
  },
  {
   "cell_type": "code",
   "execution_count": 20,
   "metadata": {},
   "outputs": [],
   "source": [
    "inf_drug_filtered[['drugrate']]=inf_drug_filtered[['drugrate']].astype(str).astype(float)"
   ]
  },
  {
   "cell_type": "markdown",
   "metadata": {},
   "source": [
    "<h4>Convert milli, nano to micro and hr to min</h4>"
   ]
  },
  {
   "cell_type": "code",
   "execution_count": 21,
   "metadata": {},
   "outputs": [],
   "source": [
    "inf_drug_filtered.loc[inf_drug_filtered['unit'].str.contains(\"mg/hr\"),'drugrate']=inf_drug_filtered['drugrate']*(100/6)\n",
    "inf_drug_filtered.loc[inf_drug_filtered['unit'].str.contains(\"mcg/hr\"),'drugrate']=inf_drug_filtered['drugrate']*(1/60)\n",
    "inf_drug_filtered.loc[inf_drug_filtered['unit'].str.contains(\"mcg/kg/hr\"),'drugrate']=inf_drug_filtered['drugrate']*(1/60)\n",
    "inf_drug_filtered.loc[inf_drug_filtered['unit'].str.contains(\"mg/min\"),'drugrate']=inf_drug_filtered['drugrate']*(1000)\n",
    "inf_drug_filtered.loc[inf_drug_filtered['unit'].str.contains(\"mg/kg/min\"),'drugrate']=inf_drug_filtered['drugrate']*(1000)\n",
    "inf_drug_filtered.loc[inf_drug_filtered['unit'].str.contains(\"nanograms/kg/min\"),'drugrate']=inf_drug_filtered['drugrate']*(1/1000)"
   ]
  },
  {
   "cell_type": "code",
   "execution_count": 22,
   "metadata": {},
   "outputs": [],
   "source": [
    "inf_drug_filtered['unit']=inf_drug_filtered['unit'].replace(['mg/hr)','mcg/hr)','mg/min)','mcg/min)'],'mcg/min')"
   ]
  },
  {
   "cell_type": "code",
   "execution_count": 23,
   "metadata": {},
   "outputs": [],
   "source": [
    "inf_drug_filtered['unit']=inf_drug_filtered['unit'].replace(['mcg/kg/hr)','mg/kg/min)','nanograms/kg/min)','mcg/kg/min)'],'mcg/kg/min')"
   ]
  },
  {
   "cell_type": "markdown",
   "metadata": {},
   "source": [
    "<h4>Now, the only remaining thing to do to this table is adjust the drugrate with the patient weight from the patient.csv table</h4>"
   ]
  },
  {
   "cell_type": "code",
   "execution_count": 24,
   "metadata": {},
   "outputs": [],
   "source": [
    "inf_drug_pre_patient=inf_drug_filtered"
   ]
  },
  {
   "cell_type": "code",
   "execution_count": null,
   "metadata": {},
   "outputs": [],
   "source": [
    "inf_drug_pre_patient.head()"
   ]
  },
  {
   "cell_type": "code",
   "execution_count": 26,
   "metadata": {},
   "outputs": [],
   "source": [
    "patient=pd.read_csv('patient.csv', usecols=['patientunitstayid', 'admissionweight', 'dischargeweight', 'unitdischargeoffset'])"
   ]
  },
  {
   "cell_type": "code",
   "execution_count": null,
   "metadata": {},
   "outputs": [],
   "source": [
    "patient.head()"
   ]
  },
  {
   "cell_type": "markdown",
   "metadata": {},
   "source": [
    "<h4>Since we will be updating the table with admission and discharge weights from the patient table, \n",
    "    we can delete the patientweight column from the infusiondrug table</h4>"
   ]
  },
  {
   "cell_type": "code",
   "execution_count": 28,
   "metadata": {},
   "outputs": [],
   "source": [
    "inf_drug_pre_patient['admissionweight']=np.nan\n",
    "inf_drug_pre_patient['dischargeweight']=np.nan"
   ]
  },
  {
   "cell_type": "code",
   "execution_count": 29,
   "metadata": {},
   "outputs": [
    {
     "data": {
      "text/plain": [
       "200859"
      ]
     },
     "execution_count": 29,
     "metadata": {},
     "output_type": "execute_result"
    }
   ],
   "source": [
    "len(patient['patientunitstayid'].unique())"
   ]
  },
  {
   "cell_type": "code",
   "execution_count": 30,
   "metadata": {},
   "outputs": [
    {
     "data": {
      "text/plain": [
       "9924"
      ]
     },
     "execution_count": 30,
     "metadata": {},
     "output_type": "execute_result"
    }
   ],
   "source": [
    "len(inf_drug_pre_patient['patientunitstayid'].unique())"
   ]
  },
  {
   "cell_type": "code",
   "execution_count": 31,
   "metadata": {},
   "outputs": [
    {
     "data": {
      "text/plain": [
       "90.7"
      ]
     },
     "execution_count": 31,
     "metadata": {},
     "output_type": "execute_result"
    }
   ],
   "source": [
    "patient.loc[patient['patientunitstayid']==242082,'admissionweight'].values[0]"
   ]
  },
  {
   "cell_type": "code",
   "execution_count": 32,
   "metadata": {},
   "outputs": [],
   "source": [
    "for pid in inf_drug_pre_patient['patientunitstayid'].unique():\n",
    "    inf_drug_pre_patient.loc[inf_drug_pre_patient['patientunitstayid']==pid,'admissionweight']=patient.loc[patient['patientunitstayid']==pid,'admissionweight'].values[0]\n",
    "    inf_drug_pre_patient.loc[inf_drug_pre_patient['patientunitstayid']==pid,'dischargeweight']=patient.loc[patient['patientunitstayid']==pid,'dischargeweight'].values[0]"
   ]
  },
  {
   "cell_type": "code",
   "execution_count": 33,
   "metadata": {},
   "outputs": [],
   "source": [
    "#save an additional copy before the normailzation stage\n",
    "inf_drug_pre_patient.to_csv(\"cardiovascular_params.csv\", sep=',', index=False, encoding='utf-8')"
   ]
  },
  {
   "cell_type": "code",
   "execution_count": null,
   "metadata": {},
   "outputs": [],
   "source": [
    "inf_drug_pre_patient.loc[inf_drug_pre_patient['admissionweight']==0]"
   ]
  },
  {
   "cell_type": "markdown",
   "metadata": {},
   "source": [
    "<h4>As we can see, the records where admissionweight is 0, the discharge weight is also NaN. This means, we either omit these \n",
    "    records, or fill the holes with a mean value. Since such records are very less as compared to entire dataset, we can fill them with their means. It won't skew the data much</h4>"
   ]
  },
  {
   "cell_type": "code",
   "execution_count": 35,
   "metadata": {},
   "outputs": [],
   "source": [
    "inf_drug_pre_patient['admissionweight']=inf_drug_pre_patient['admissionweight'].fillna(inf_drug_pre_patient['admissionweight'].mean())\n",
    "inf_drug_pre_patient['dischargeweight']=inf_drug_pre_patient['dischargeweight'].fillna(inf_drug_pre_patient['dischargeweight'].mean())"
   ]
  },
  {
   "cell_type": "markdown",
   "metadata": {},
   "source": [
    "<h4>To avoid division by zero error, we will change the 0s for dischargeweight as 1</h4>"
   ]
  },
  {
   "cell_type": "code",
   "execution_count": 36,
   "metadata": {},
   "outputs": [],
   "source": [
    "inf_drug_pre_patient['dischargeweight']=inf_drug_pre_patient['dischargeweight'].replace([0,0.0],1)"
   ]
  },
  {
   "cell_type": "code",
   "execution_count": 37,
   "metadata": {},
   "outputs": [
    {
     "data": {
      "text/plain": [
       "False"
      ]
     },
     "execution_count": 37,
     "metadata": {},
     "output_type": "execute_result"
    }
   ],
   "source": [
    "any(inf_drug_pre_patient['dischargeweight'].isna())"
   ]
  },
  {
   "cell_type": "code",
   "execution_count": 38,
   "metadata": {},
   "outputs": [],
   "source": [
    "inf_drug_pre_patient.loc[((inf_drug_pre_patient['admissionweight']==np.nan) | (inf_drug_pre_patient['admissionweight']==0)) & \n",
    "                         (inf_drug_pre_patient['unit']=='mcg/min'),'drugrate']=inf_drug_pre_patient.loc[((inf_drug_pre_patient['admissionweight']==np.nan) | \n",
    "                          (inf_drug_pre_patient['admissionweight']==0)) & (inf_drug_pre_patient['unit']=='mcg/min')].apply(lambda x : (x['drugrate']/x['dischargeweight']),axis=1)"
   ]
  },
  {
   "cell_type": "code",
   "execution_count": null,
   "metadata": {},
   "outputs": [],
   "source": [
    "inf_drug_pre_patient.loc[inf_drug_pre_patient['admissionweight']==0]"
   ]
  },
  {
   "cell_type": "code",
   "execution_count": 40,
   "metadata": {},
   "outputs": [],
   "source": [
    "inf_drug_pre_patient.loc[(inf_drug_pre_patient['admissionweight']>0) & \n",
    "                         (inf_drug_pre_patient['unit']=='mcg/min'),'drugrate']=inf_drug_pre_patient.loc[(inf_drug_pre_patient['admissionweight']>0) & \n",
    "                                                                                                        (inf_drug_pre_patient['unit']=='mcg/min')].apply(lambda x : (x['drugrate']/x['admissionweight']),axis=1)"
   ]
  },
  {
   "cell_type": "code",
   "execution_count": null,
   "metadata": {},
   "outputs": [],
   "source": [
    "inf_drug_pre_patient.head()"
   ]
  },
  {
   "cell_type": "markdown",
   "metadata": {},
   "source": [
    "<h4>We will need to add MAP data as well</h4>"
   ]
  },
  {
   "cell_type": "code",
   "execution_count": 42,
   "metadata": {},
   "outputs": [],
   "source": [
    "#adding explicit drug columns \n",
    "inf_drug_pre_patient.loc[inf_drug_pre_patient['drugname'].str.contains('Norepi', case=True, regex=False),'drugname']='Norepinephrine'\n",
    "inf_drug_pre_patient.loc[inf_drug_pre_patient['drugname'].str.contains('Epi', case=True, regex=False),'drugname']='Epinephrine'\n",
    "inf_drug_pre_patient.loc[inf_drug_pre_patient['drugname'].str.contains('Dopa', case=False, regex=False),'drugname']='Dopamine'\n",
    "inf_drug_pre_patient.loc[inf_drug_pre_patient['drugname'].str.contains('Dobuta', case=True, regex=False),'drugname']='Dobutamine'"
   ]
  },
  {
   "cell_type": "code",
   "execution_count": 43,
   "metadata": {},
   "outputs": [],
   "source": [
    "#create columns\n",
    "inf_drug_pre_patient['Norepinephrine']=np.nan\n",
    "inf_drug_pre_patient['Epinephrine']=np.nan\n",
    "inf_drug_pre_patient['Dopamine']=np.nan\n",
    "inf_drug_pre_patient['Dobutamine']=np.nan"
   ]
  },
  {
   "cell_type": "code",
   "execution_count": 44,
   "metadata": {},
   "outputs": [],
   "source": [
    "#Feed the values from drugrate\n",
    "inf_drug_pre_patient['Norepinephrine']=inf_drug_pre_patient.loc[inf_drug_pre_patient['drugname']=='Norepinephrine','drugrate']\n",
    "inf_drug_pre_patient['Epinephrine']=inf_drug_pre_patient.loc[inf_drug_pre_patient['drugname']=='Epinephrine','drugrate']\n",
    "inf_drug_pre_patient['Dopamine']=inf_drug_pre_patient.loc[inf_drug_pre_patient['drugname']=='Dopamine','drugrate']\n",
    "inf_drug_pre_patient['Dobutamine']=inf_drug_pre_patient.loc[inf_drug_pre_patient['drugname']=='Dobutamine','drugrate']"
   ]
  },
  {
   "cell_type": "code",
   "execution_count": 45,
   "metadata": {},
   "outputs": [],
   "source": [
    "del inf_drug_pre_patient['infusiondrugid']\n",
    "del inf_drug_pre_patient['drugname']"
   ]
  },
  {
   "cell_type": "code",
   "execution_count": null,
   "metadata": {},
   "outputs": [],
   "source": []
  },
  {
   "cell_type": "code",
   "execution_count": null,
   "metadata": {},
   "outputs": [],
   "source": [
    "inf_drug_pre_patient.head()"
   ]
  },
  {
   "cell_type": "code",
   "execution_count": null,
   "metadata": {},
   "outputs": [],
   "source": [
    "del inf_drug_pre_patient['infusionrate']\n",
    "del inf_drug_pre_patient['drugamount']\n"
   ]
  },
  {
   "cell_type": "code",
   "execution_count": 48,
   "metadata": {},
   "outputs": [],
   "source": [
    "inf_drug_pre_patient.to_csv(\"drugrate_norm.csv\", sep=',', index=False, encoding='utf-8')"
   ]
  },
  {
   "cell_type": "code",
   "execution_count": 2,
   "metadata": {},
   "outputs": [],
   "source": [
    "drugrate_updated=pd.read_csv(\"drugrate_norm.csv\")"
   ]
  },
  {
   "cell_type": "code",
   "execution_count": 3,
   "metadata": {},
   "outputs": [],
   "source": [
    "columns=['patientunitstayid','infusionoffset','Norepinephrine','Epinephrine','Dopamine','Dobutamine']\n",
    "drugrate_updated=drugrate_updated[columns]"
   ]
  },
  {
   "cell_type": "code",
   "execution_count": null,
   "metadata": {},
   "outputs": [],
   "source": [
    "drugrate_updated.head()"
   ]
  },
  {
   "cell_type": "code",
   "execution_count": 5,
   "metadata": {},
   "outputs": [],
   "source": [
    "nursemap=pd.read_csv(\"nursechartMAP.csv\")"
   ]
  },
  {
   "cell_type": "code",
   "execution_count": null,
   "metadata": {},
   "outputs": [],
   "source": [
    "nursemap.head()"
   ]
  },
  {
   "cell_type": "code",
   "execution_count": 7,
   "metadata": {},
   "outputs": [],
   "source": [
    "nursemap=nursemap[['patientunitstayid','nursingchartentryoffset','nursingchartvalue']]"
   ]
  },
  {
   "cell_type": "code",
   "execution_count": 55,
   "metadata": {},
   "outputs": [],
   "source": [
    "#since we need both the cardio params as well as the MAP values individually, we will use outer join\n",
    "df_cardiovascular=pd.merge(drugrate_updated,nursemap,left_on=['patientunitstayid'],right_on=['patientunitstayid'],how='outer').drop_duplicates()"
   ]
  },
  {
   "cell_type": "code",
   "execution_count": null,
   "metadata": {},
   "outputs": [],
   "source": [
    "df_cardiovascular.head()"
   ]
  },
  {
   "cell_type": "code",
   "execution_count": 57,
   "metadata": {},
   "outputs": [],
   "source": [
    "df_cardiovascular.loc[((df_cardiovascular['Dopamine'] >15)) | ((df_cardiovascular['Epinephrine'] >0.1)) | ((df_cardiovascular['Norepinephrine'] >0.1)), 'SOFA_cardio'] = 4\n",
    "df_cardiovascular.loc[((df_cardiovascular['Dopamine'] <15)) | ((df_cardiovascular['Epinephrine'] <=0.1)) | ((df_cardiovascular['Norepinephrine'] <=0.1)), 'SOFA_cardio'] = 3\n",
    "df_cardiovascular.loc[((df_cardiovascular['Dopamine'] <5)) | ((df_cardiovascular['Dobutamine'] >0)), 'SOFA_cardio'] = 2\n",
    "df_cardiovascular.loc[df_cardiovascular['nursingchartvalue']<70,['SOFA_cardio']]=1\n",
    "df_cardiovascular.loc[df_cardiovascular['nursingchartvalue']>71,['SOFA_cardio']]=0"
   ]
  },
  {
   "cell_type": "code",
   "execution_count": 58,
   "metadata": {},
   "outputs": [],
   "source": [
    "#Now we need to combine these 2 timeoffsets into a single offset\n",
    "df_cardiovascular['offset'] = np.where(df_cardiovascular['infusionoffset']>0, df_cardiovascular['infusionoffset'], df_cardiovascular['nursingchartentryoffset'])\n"
   ]
  },
  {
   "cell_type": "code",
   "execution_count": 59,
   "metadata": {},
   "outputs": [],
   "source": [
    "df_cardiovascular = df_cardiovascular.dropna(subset = ['offset'])"
   ]
  },
  {
   "cell_type": "code",
   "execution_count": 60,
   "metadata": {},
   "outputs": [
    {
     "data": {
      "text/plain": [
       "960205"
      ]
     },
     "execution_count": 60,
     "metadata": {},
     "output_type": "execute_result"
    }
   ],
   "source": [
    "len(df_cardiovascular)"
   ]
  },
  {
   "cell_type": "code",
   "execution_count": 61,
   "metadata": {},
   "outputs": [],
   "source": [
    "del df_cardiovascular['infusionoffset']\n",
    "del df_cardiovascular['nursingchartentryoffset']"
   ]
  },
  {
   "cell_type": "code",
   "execution_count": null,
   "metadata": {},
   "outputs": [],
   "source": [
    "df_cardiovascular.head()"
   ]
  },
  {
   "cell_type": "code",
   "execution_count": 63,
   "metadata": {},
   "outputs": [],
   "source": [
    "df_cardiovascular['offset']=df_cardiovascular['offset'].astype('int32')"
   ]
  },
  {
   "cell_type": "code",
   "execution_count": 64,
   "metadata": {},
   "outputs": [
    {
     "data": {
      "text/html": [
       "<div>\n",
       "<style scoped>\n",
       "    .dataframe tbody tr th:only-of-type {\n",
       "        vertical-align: middle;\n",
       "    }\n",
       "\n",
       "    .dataframe tbody tr th {\n",
       "        vertical-align: top;\n",
       "    }\n",
       "\n",
       "    .dataframe thead th {\n",
       "        text-align: right;\n",
       "    }\n",
       "</style>\n",
       "<table border=\"1\" class=\"dataframe\">\n",
       "  <thead>\n",
       "    <tr style=\"text-align: right;\">\n",
       "      <th></th>\n",
       "      <th>patientunitstayid</th>\n",
       "      <th>Norepinephrine</th>\n",
       "      <th>Epinephrine</th>\n",
       "      <th>Dopamine</th>\n",
       "      <th>Dobutamine</th>\n",
       "      <th>nursingchartvalue</th>\n",
       "      <th>SOFA_cardio</th>\n",
       "      <th>offset</th>\n",
       "    </tr>\n",
       "  </thead>\n",
       "  <tbody>\n",
       "    <tr>\n",
       "      <th>0</th>\n",
       "      <td>242082</td>\n",
       "      <td>0.120507</td>\n",
       "      <td>NaN</td>\n",
       "      <td>NaN</td>\n",
       "      <td>NaN</td>\n",
       "      <td>NaN</td>\n",
       "      <td>4.0</td>\n",
       "      <td>425</td>\n",
       "    </tr>\n",
       "    <tr>\n",
       "      <th>1</th>\n",
       "      <td>242082</td>\n",
       "      <td>0.077178</td>\n",
       "      <td>NaN</td>\n",
       "      <td>NaN</td>\n",
       "      <td>NaN</td>\n",
       "      <td>NaN</td>\n",
       "      <td>3.0</td>\n",
       "      <td>125</td>\n",
       "    </tr>\n",
       "    <tr>\n",
       "      <th>2</th>\n",
       "      <td>242082</td>\n",
       "      <td>0.023484</td>\n",
       "      <td>NaN</td>\n",
       "      <td>NaN</td>\n",
       "      <td>NaN</td>\n",
       "      <td>NaN</td>\n",
       "      <td>3.0</td>\n",
       "      <td>55</td>\n",
       "    </tr>\n",
       "    <tr>\n",
       "      <th>3</th>\n",
       "      <td>242082</td>\n",
       "      <td>0.088203</td>\n",
       "      <td>NaN</td>\n",
       "      <td>NaN</td>\n",
       "      <td>NaN</td>\n",
       "      <td>NaN</td>\n",
       "      <td>3.0</td>\n",
       "      <td>665</td>\n",
       "    </tr>\n",
       "    <tr>\n",
       "      <th>4</th>\n",
       "      <td>242082</td>\n",
       "      <td>0.100000</td>\n",
       "      <td>NaN</td>\n",
       "      <td>NaN</td>\n",
       "      <td>NaN</td>\n",
       "      <td>NaN</td>\n",
       "      <td>3.0</td>\n",
       "      <td>230</td>\n",
       "    </tr>\n",
       "  </tbody>\n",
       "</table>\n",
       "</div>"
      ],
      "text/plain": [
       "   patientunitstayid  Norepinephrine  Epinephrine  Dopamine  Dobutamine  \\\n",
       "0             242082        0.120507          NaN       NaN         NaN   \n",
       "1             242082        0.077178          NaN       NaN         NaN   \n",
       "2             242082        0.023484          NaN       NaN         NaN   \n",
       "3             242082        0.088203          NaN       NaN         NaN   \n",
       "4             242082        0.100000          NaN       NaN         NaN   \n",
       "\n",
       "   nursingchartvalue  SOFA_cardio  offset  \n",
       "0                NaN          4.0     425  \n",
       "1                NaN          3.0     125  \n",
       "2                NaN          3.0      55  \n",
       "3                NaN          3.0     665  \n",
       "4                NaN          3.0     230  "
      ]
     },
     "execution_count": 64,
     "metadata": {},
     "output_type": "execute_result"
    }
   ],
   "source": [
    "df_cardiovascular.head()"
   ]
  },
  {
   "cell_type": "code",
   "execution_count": 65,
   "metadata": {},
   "outputs": [],
   "source": [
    "df_cardiovascular.to_csv(\"drugate_norm_updated.csv\",index=False)"
   ]
  },
  {
   "cell_type": "code",
   "execution_count": null,
   "metadata": {},
   "outputs": [],
   "source": []
  }
 ],
 "metadata": {
  "kernelspec": {
   "display_name": "Python 3",
   "language": "python",
   "name": "python3"
  },
  "language_info": {
   "codemirror_mode": {
    "name": "ipython",
    "version": 3
   },
   "file_extension": ".py",
   "mimetype": "text/x-python",
   "name": "python",
   "nbconvert_exporter": "python",
   "pygments_lexer": "ipython3",
   "version": "3.7.3"
  }
 },
 "nbformat": 4,
 "nbformat_minor": 2
}

{
 "cells": [
  {
   "cell_type": "code",
   "execution_count": 28,
   "metadata": {},
   "outputs": [],
   "source": [
    "import pandas as pd\n",
    "import numpy as np\n",
    "import matplotlib.pyplot as plt\n",
    "import math\n",
    "import scipy.stats as stats\n",
    "from random import randint\n",
    "import statistics\n",
    "%matplotlib inline"
   ]
  },
  {
   "cell_type": "code",
   "execution_count": 2,
   "metadata": {},
   "outputs": [],
   "source": [
    "patient=pd.read_csv(\"patient.csv\")"
   ]
  },
  {
   "cell_type": "code",
   "execution_count": 3,
   "metadata": {},
   "outputs": [
    {
     "data": {
      "text/plain": [
       "200859"
      ]
     },
     "execution_count": 3,
     "metadata": {},
     "output_type": "execute_result"
    }
   ],
   "source": [
    "len(patient.patientunitstayid.unique())"
   ]
  },
  {
   "cell_type": "code",
   "execution_count": null,
   "metadata": {},
   "outputs": [],
   "source": [
    "patient.head()"
   ]
  },
  {
   "cell_type": "code",
   "execution_count": 5,
   "metadata": {},
   "outputs": [],
   "source": [
    "sepsis=pd.read_csv(\"24_hour_sepsis.csv\")"
   ]
  },
  {
   "cell_type": "code",
   "execution_count": null,
   "metadata": {},
   "outputs": [],
   "source": [
    "sepsis.head()"
   ]
  },
  {
   "cell_type": "code",
   "execution_count": 7,
   "metadata": {},
   "outputs": [
    {
     "data": {
      "text/plain": [
       "21635"
      ]
     },
     "execution_count": 7,
     "metadata": {},
     "output_type": "execute_result"
    }
   ],
   "source": [
    "len(sepsis.patientunitstayid.unique())"
   ]
  },
  {
   "cell_type": "code",
   "execution_count": 8,
   "metadata": {},
   "outputs": [],
   "source": [
    "control=sepsis[sepsis['flag']==0]\n",
    "control_patients=control['patientunitstayid'].unique()\n",
    "cases=sepsis[sepsis['flag']==1]\n",
    "case_patients=cases['patientunitstayid'].unique()"
   ]
  },
  {
   "cell_type": "code",
   "execution_count": 9,
   "metadata": {},
   "outputs": [
    {
     "name": "stdout",
     "output_type": "stream",
     "text": [
      "14175\n"
     ]
    }
   ],
   "source": [
    "print(len(case_patients))"
   ]
  },
  {
   "cell_type": "code",
   "execution_count": 10,
   "metadata": {},
   "outputs": [
    {
     "name": "stdout",
     "output_type": "stream",
     "text": [
      "Total suspected patients:  21635\n"
     ]
    }
   ],
   "source": [
    "print(\"Total suspected patients: \",(len(control_patients)+len(case_patients)))"
   ]
  },
  {
   "cell_type": "code",
   "execution_count": 37,
   "metadata": {},
   "outputs": [],
   "source": [
    "lab_data=pd.read_csv(\"lab.csv\")"
   ]
  },
  {
   "cell_type": "code",
   "execution_count": null,
   "metadata": {},
   "outputs": [],
   "source": []
  },
  {
   "cell_type": "code",
   "execution_count": 14,
   "metadata": {},
   "outputs": [],
   "source": [
    "cases_details=patient[patient['patientunitstayid'].isin(case_patients)]\n",
    "control_details=patient[patient['patientunitstayid'].isin(control_patients)]\n",
    "cases_details=cases_details[['patientunitstayid','gender','age','ethnicity','unitdischargestatus']]\n",
    "control_details=control_details[['patientunitstayid','gender','age','ethnicity','unitdischargestatus']]"
   ]
  },
  {
   "cell_type": "code",
   "execution_count": 11,
   "metadata": {},
   "outputs": [],
   "source": [
    "cases_details=patient[patient['patientunitstayid'].isin(case_patients)]\n",
    "control_details=patient[~(patient['patientunitstayid'].isin(case_patients))]\n",
    "cases_details=cases_details[['patientunitstayid','gender','age','ethnicity','unitdischargestatus']]\n",
    "control_details=control_details[['patientunitstayid','gender','age','ethnicity','unitdischargestatus']]"
   ]
  },
  {
   "cell_type": "code",
   "execution_count": 20,
   "metadata": {},
   "outputs": [
    {
     "data": {
      "text/plain": [
       "Male       7729\n",
       "Female     6443\n",
       "Other         1\n",
       "Unknown       1\n",
       "Name: gender, dtype: int64"
      ]
     },
     "execution_count": 20,
     "metadata": {},
     "output_type": "execute_result"
    }
   ],
   "source": [
    "cases_details['gender'].value_counts()"
   ]
  },
  {
   "cell_type": "code",
   "execution_count": 22,
   "metadata": {},
   "outputs": [
    {
     "name": "stdout",
     "output_type": "stream",
     "text": [
      "186684\n"
     ]
    }
   ],
   "source": [
    "control_details['gender'].value_counts()\n",
    "print(len(control_details))"
   ]
  },
  {
   "cell_type": "markdown",
   "metadata": {},
   "source": [
    "<h3><center>Gender Diversity among patients for cases and control</center></h3>"
   ]
  },
  {
   "cell_type": "code",
   "execution_count": 14,
   "metadata": {},
   "outputs": [],
   "source": [
    "cases_male=cases_details.loc[cases_details['gender']==\"Male\"]\n",
    "cases_female=cases_details.loc[cases_details['gender']==\"Female\"]\n",
    "control_male=control_details.loc[control_details['gender']==\"Male\"]\n",
    "control_female=control_details.loc[control_details['gender']==\"Female\"]\n",
    "\n",
    "num_females_case=len(cases_female)\n",
    "num_males_case=len(cases_male)\n",
    "num_females_control=len(control_female)\n",
    "num_males_control=len(control_male)"
   ]
  },
  {
   "cell_type": "code",
   "execution_count": 15,
   "metadata": {},
   "outputs": [
    {
     "data": {
      "image/png": "[encoded data removed]",
      "text/plain": [
       "<Figure size 432x288 with 1 Axes>"
      ]
     },
     "metadata": {},
     "output_type": "display_data"
    }
   ],
   "source": [
    "plt.pie([num_males_case,num_females_case],labels=['Males','Females'],colors=['red','blue'],autopct='%1.1f%%')\n",
    "plt.show()"
   ]
  },
  {
   "cell_type": "code",
   "execution_count": 16,
   "metadata": {},
   "outputs": [
    {
     "data": {
      "image/png": "[encoded data removed]",
      "text/plain": [
       "<Figure size 432x288 with 1 Axes>"
      ]
     },
     "metadata": {},
     "output_type": "display_data"
    }
   ],
   "source": [
    "plt.pie([num_males_control,num_females_control],labels=['Males','Females'],colors=['red','blue'],autopct='%1.1f%%')\n",
    "plt.show()"
   ]
  },
  {
   "cell_type": "markdown",
   "metadata": {},
   "source": [
    "<h3><center>Demographics Study</center></h3>"
   ]
  },
  {
   "cell_type": "code",
   "execution_count": 35,
   "metadata": {},
   "outputs": [
    {
     "data": {
      "image/png": "[encoded data removed]",
      "text/plain": [
       "<Figure size 432x288 with 1 Axes>"
      ]
     },
     "metadata": {
      "needs_background": "light"
     },
     "output_type": "display_data"
    },
    {
     "data": {
      "image/png": "[encoded data removed]",
      "text/plain": [
       "<Figure size 432x288 with 1 Axes>"
      ]
     },
     "metadata": {
      "needs_background": "light"
     },
     "output_type": "display_data"
    },
    {
     "data": {
      "image/png": "[encoded data removed]",
      "text/plain": [
       "<Figure size 432x288 with 1 Axes>"
      ]
     },
     "metadata": {
      "needs_background": "light"
     },
     "output_type": "display_data"
    }
   ],
   "source": [
    "#Demographics study\n",
    "ethnicity_case=cases_details[['ethnicity']]\n",
    "ethnicity_control=control_details[['ethnicity']]\n",
    "ethnicity_case_dict=ethnicity_case['ethnicity'].value_counts().to_dict()\n",
    "ethnicity_control_dict=ethnicity_control['ethnicity'].value_counts().to_dict()\n",
    "\n",
    "ethnicity_labels=list(ethnicity_case['ethnicity'].value_counts().to_dict().keys())\n",
    "ethnicity_case_values=list(ethnicity_case['ethnicity'].value_counts().to_dict().values())\n",
    "ethnicity_control_values=list(ethnicity_control['ethnicity'].value_counts().to_dict().values())\n",
    "\n",
    "#Plotting for the cases\n",
    "\n",
    "plt.bar(ethnicity_labels,ethnicity_case_values)\n",
    "plt.xlabel(\"Unique ethnicities --> \")\n",
    "plt.ylabel(\"Count -- > \")\n",
    "plt.title(\"Ethnicity distribution of sepsis case patients\")\n",
    "plt.xticks(ethnicity_labels,rotation=30)\n",
    "plt.show()\n",
    "\n",
    "#Plotting for the controls\n",
    "\n",
    "plt.bar(ethnicity_labels,ethnicity_control_values)\n",
    "plt.xlabel(\"Unique ethnicities --> \")\n",
    "plt.ylabel(\"Count -- > \")\n",
    "plt.title(\"Ethnicity distribution of sepsis control patients\")\n",
    "plt.xticks(ethnicity_labels,rotation=30)\n",
    "plt.show()\n",
    "\n",
    "#for comparison\n",
    "plt.bar(ethnicity_labels,ethnicity_case_values)\n",
    "plt.bar(ethnicity_labels,ethnicity_control_values)\n",
    "plt.xlabel(\"Unique ethnicities --> \")\n",
    "plt.ylabel(\"Count -- > \")\n",
    "plt.title(\"Stacked Bar graph between case and control\")\n",
    "plt.xticks(ethnicity_labels,rotation=30)\n",
    "plt.legend(['case','control'])\n",
    "plt.show()\n"
   ]
  },
  {
   "cell_type": "code",
   "execution_count": 36,
   "metadata": {},
   "outputs": [
    {
     "name": "stdout",
     "output_type": "stream",
     "text": [
      "{'Caucasian': 11144, 'African American': 1609, 'Other/Unknown': 753, 'Hispanic': 273, 'Asian': 190, 'Native American': 147}\n",
      "{'Caucasian': 144141, 'African American': 19699, 'Other/Unknown': 8789, 'Hispanic': 7191, 'Asian': 3080, 'Native American': 1553}\n"
     ]
    }
   ],
   "source": [
    "print(ethnicity_case_dict)\n",
    "print(ethnicity_control_dict)"
   ]
  },
  {
   "cell_type": "markdown",
   "metadata": {},
   "source": [
    "<h3><center>Age Distribution</center></h3>"
   ]
  },
  {
   "cell_type": "code",
   "execution_count": 38,
   "metadata": {},
   "outputs": [
    {
     "name": "stdout",
     "output_type": "stream",
     "text": [
      "Total number of adults in the suspicious data:  200329\n",
      "Total number of children in the suspicious data:  530\n"
     ]
    },
    {
     "data": {
      "image/png": "[encoded data removed]",
      "text/plain": [
       "<Figure size 432x288 with 1 Axes>"
      ]
     },
     "metadata": {
      "needs_background": "light"
     },
     "output_type": "display_data"
    },
    {
     "data": {
      "image/png": "[encoded data removed]",
      "text/plain": [
       "<Figure size 432x288 with 1 Axes>"
      ]
     },
     "metadata": {
      "needs_background": "light"
     },
     "output_type": "display_data"
    }
   ],
   "source": [
    "#normal distribution of the ages\n",
    "case_ages=cases_details['age'].tolist()\n",
    "control_ages=control_details['age'].tolist()\n",
    "\n",
    "#there are ages which have been marked >89, which needs to be changed in order to make a graph\n",
    "#for our convenience, we will replace it with a random number between 90 and 100 to eliminate bias\n",
    "\n",
    "for n,i in enumerate(case_ages):\n",
    "    if(i=='> 89'):\n",
    "        case_ages[n]=str(randint(90,100))\n",
    "\n",
    "for n,i in enumerate(control_ages):\n",
    "    if(i=='> 89'):\n",
    "        control_ages[n]=str(randint(90,100))\n",
    "        \n",
    "control_ages=pd.Series(control_ages).fillna(str(randint(20,80))).tolist()\n",
    "\n",
    "case_ages=list(map(int,case_ages))\n",
    "control_ages=list(map(int,control_ages))\n",
    "\n",
    "\n",
    "case_ages_mean=np.mean(case_ages)\n",
    "control_ages_mean=np.mean(control_ages)\n",
    "cases_ages_sigma=np.std(case_ages)\n",
    "control_ages_sigma=np.std(control_ages)\n",
    "\n",
    "#-----------------------------------------------\n",
    "#for counting no. of adults and children in the sample for consort\n",
    "adult_cases_count=0\n",
    "children_cases_count=0\n",
    "adult_control_count=0\n",
    "children_control_count=0\n",
    "\n",
    "for i in case_ages:\n",
    "    if(i>=18):\n",
    "        adult_cases_count+=1\n",
    "    else:\n",
    "        children_cases_count+=1\n",
    "        \n",
    "for i in control_ages:\n",
    "    if(i>=18):\n",
    "        adult_control_count+=1\n",
    "    else:\n",
    "        children_control_count+=1\n",
    "\n",
    "\n",
    "print(\"Total number of adults in the suspicious data: \",(adult_cases_count+adult_control_count))\n",
    "print(\"Total number of children in the suspicious data: \",(children_cases_count+children_control_count))  \n",
    "\n",
    "#------------------------------------------------\n",
    "        \n",
    "#plotting the bell curves\n",
    "x_cases = np.linspace(case_ages_mean - 3*cases_ages_sigma, case_ages_mean + 3*cases_ages_sigma, 100)\n",
    "x_control = np.linspace(control_ages_mean - 3*control_ages_sigma, control_ages_mean + 3*control_ages_sigma, 100)\n",
    "\n",
    "#for case\n",
    "plt.plot(x_cases, stats.norm.pdf(x_cases, case_ages_mean, cases_ages_sigma))\n",
    "plt.xlabel(\"Patient age --> \")\n",
    "plt.title(\"Normal Distribution of ages in cases patients (Bell Curve) \")\n",
    "plt.show()\n",
    "\n",
    "#for control\n",
    "plt.plot(x_control, stats.norm.pdf(x_control, control_ages_mean, control_ages_sigma))\n",
    "plt.xlabel(\"Patient age --> \")\n",
    "plt.title(\"Normal Distribution of ages in control patients (Bell Curve) \")\n",
    "plt.show()"
   ]
  },
  {
   "cell_type": "code",
   "execution_count": 41,
   "metadata": {},
   "outputs": [
    {
     "name": "stdout",
     "output_type": "stream",
     "text": [
      "65.58363315696648\n",
      "16.22115370017017\n",
      "63.069716740588376\n",
      "17.57127037919129\n"
     ]
    }
   ],
   "source": [
    "print(case_ages_mean)\n",
    "print(cases_ages_sigma)\n",
    "\n",
    "print(control_ages_mean)\n",
    "print(control_ages_sigma)"
   ]
  },
  {
   "cell_type": "markdown",
   "metadata": {},
   "source": [
    "From the above graph we can see similar graphs for both the case and control patients. It's simply because people in the range\n",
    "of 50 to 70 are most susceptible to sepsis. This is what we infer from the graph. "
   ]
  },
  {
   "cell_type": "markdown",
   "metadata": {},
   "source": [
    "<h3><center>Consort Diagram</center></h3>\n",
    "<img src=\"consort.png\">"
   ]
  },
  {
   "cell_type": "markdown",
   "metadata": {},
   "source": [
    "<h3><center>Vitals Extraction</center></h3>"
   ]
  },
  {
   "cell_type": "code",
   "execution_count": null,
   "metadata": {},
   "outputs": [],
   "source": [
    "vitals=pd.read_csv(\"vitalPeriodic.csv\",chunksize=10000)\n",
    "vit=[]\n",
    "for chunk in vitals:\n",
    "    vit.append(chunk)\n",
    "df_vital=pd.concat(vit,sort=False)"
   ]
  },
  {
   "cell_type": "code",
   "execution_count": null,
   "metadata": {},
   "outputs": [],
   "source": [
    "df_vital.head()"
   ]
  },
  {
   "cell_type": "code",
   "execution_count": 3,
   "metadata": {},
   "outputs": [],
   "source": [
    "training=pd.read_csv(\"training_table.csv\")"
   ]
  },
  {
   "cell_type": "code",
   "execution_count": 21,
   "metadata": {},
   "outputs": [
    {
     "data": {
      "text/plain": [
       "False"
      ]
     },
     "execution_count": 21,
     "metadata": {},
     "output_type": "execute_result"
    }
   ],
   "source": [
    "any(all_patient_details['age'].isna())"
   ]
  },
  {
   "cell_type": "code",
   "execution_count": 5,
   "metadata": {},
   "outputs": [
    {
     "data": {
      "text/plain": [
       "196055"
      ]
     },
     "execution_count": 5,
     "metadata": {},
     "output_type": "execute_result"
    }
   ],
   "source": [
    "len(training.patientunitstayid.unique())"
   ]
  },
  {
   "cell_type": "code",
   "execution_count": 13,
   "metadata": {},
   "outputs": [
    {
     "name": "stdout",
     "output_type": "stream",
     "text": [
      "14175\n"
     ]
    }
   ],
   "source": [
    "susp=pd.read_csv(\"24_hour_sepsis.csv\")\n",
    "sepsis_cases=susp[susp['flag']==1]\n",
    "pids=list(sepsis_cases.patientunitstayid.unique())\n",
    "print(len(pids))"
   ]
  },
  {
   "cell_type": "code",
   "execution_count": 14,
   "metadata": {},
   "outputs": [
    {
     "name": "stderr",
     "output_type": "stream",
     "text": [
      "C:\\ProgramData\\Anaconda3\\lib\\site-packages\\ipykernel_launcher.py:4: SettingWithCopyWarning: \n",
      "A value is trying to be set on a copy of a slice from a DataFrame.\n",
      "Try using .loc[row_indexer,col_indexer] = value instead\n",
      "\n",
      "See the caveats in the documentation: http://pandas.pydata.org/pandas-docs/stable/indexing.html#indexing-view-versus-copy\n",
      "  after removing the cwd from sys.path.\n"
     ]
    }
   ],
   "source": [
    "all_patient_details=patient.loc[patient['patientunitstayid'].isin(pids)]\n",
    "all_patient_details.loc[all_patient_details['age']=='> 89','age']=str(randint(90,100))\n",
    "#print(all_patient_details[all_patient_details['age'].isnull()])\n",
    "all_patient_details['age'] = pd.to_numeric(all_patient_details['age'], errors='coerce')\n",
    "all_patient_details = all_patient_details.dropna(subset=['age'])\n",
    "all_patient_details['age']=all_patient_details['age'].astype(int)\n",
    "#all_patient_details['age']=all_patient_details['age'].astype(int)\n",
    "#all_patient_details['age']=all_patient_details['age'].fillna(all_patient_details['age'].median())"
   ]
  },
  {
   "cell_type": "code",
   "execution_count": 15,
   "metadata": {},
   "outputs": [],
   "source": [
    "children=all_patient_details.loc[all_patient_details['age']<18]"
   ]
  },
  {
   "cell_type": "code",
   "execution_count": 12,
   "metadata": {},
   "outputs": [
    {
     "data": {
      "text/plain": [
       "14"
      ]
     },
     "execution_count": 12,
     "metadata": {},
     "output_type": "execute_result"
    }
   ],
   "source": [
    "len(children.patientunitstayid.unique())"
   ]
  },
  {
   "cell_type": "code",
   "execution_count": null,
   "metadata": {},
   "outputs": [],
   "source": [
    "children"
   ]
  },
  {
   "cell_type": "code",
   "execution_count": null,
   "metadata": {},
   "outputs": [],
   "source": []
  }
 ],
 "metadata": {
  "kernelspec": {
   "display_name": "Python 3",
   "language": "python",
   "name": "python3"
  },
  "language_info": {
   "codemirror_mode": {
    "name": "ipython",
    "version": 3
   },
   "file_extension": ".py",
   "mimetype": "text/x-python",
   "name": "python",
   "nbconvert_exporter": "python",
   "pygments_lexer": "ipython3",
   "version": "3.7.3"
  }
 },
 "nbformat": 4,
 "nbformat_minor": 2
}

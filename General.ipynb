{
 "cells": [
  {
   "cell_type": "code",
   "execution_count": 2,
   "metadata": {
    "collapsed": true
   },
   "outputs": [],
   "source": [
    "import pandas as pd\n",
    "\n",
    "\n",
    "\n",
    "# In[ ]:\n",
    "\n",
    "\n",
    "chunks=pd.read_csv('eICU/vitalPeriodic.csv')\n"
   ]
  },
  {
   "cell_type": "code",
   "execution_count": 8,
   "metadata": {},
   "outputs": [
    {
     "name": "stdout",
     "output_type": "stream",
     "text": [
      "<class 'pandas.core.frame.DataFrame'>\n",
      "RangeIndex: 1000000 entries, 1000000 to 1999999\n",
      "Data columns (total 19 columns):\n",
      "vitalperiodicid      1000000 non-null int64\n",
      "patientunitstayid    1000000 non-null int64\n",
      "observationoffset    1000000 non-null int64\n",
      "temperature          192449 non-null float64\n",
      "sao2                 867348 non-null float64\n",
      "heartrate            996666 non-null float64\n",
      "respiration          732167 non-null float64\n",
      "cvp                  139580 non-null float64\n",
      "etco2                12323 non-null float64\n",
      "systemicsystolic     302301 non-null float64\n",
      "systemicdiastolic    302316 non-null float64\n",
      "systemicmean         302839 non-null float64\n",
      "pasystolic           46432 non-null float64\n",
      "padiastolic          46419 non-null float64\n",
      "pamean               46459 non-null float64\n",
      "st1                  481038 non-null float64\n",
      "st2                  486550 non-null float64\n",
      "st3                  480329 non-null float64\n",
      "icp                  3542 non-null float64\n",
      "dtypes: float64(16), int64(3)\n",
      "memory usage: 145.0 MB\n"
     ]
    }
   ],
   "source": [
    "chunks[1000000:2000000].info()"
   ]
  },
  {
   "cell_type": "code",
   "execution_count": 5,
   "metadata": {},
   "outputs": [
    {
     "name": "stdout",
     "output_type": "stream",
     "text": [
      "<class 'pandas.core.frame.DataFrame'>\n",
      "RangeIndex: 1000000 entries, 145671642 to 146671641\n",
      "Data columns (total 19 columns):\n",
      "vitalperiodicid      1000000 non-null int64\n",
      "patientunitstayid    1000000 non-null int64\n",
      "observationoffset    1000000 non-null int64\n",
      "temperature          40165 non-null float64\n",
      "sao2                 933473 non-null float64\n",
      "heartrate            998144 non-null float64\n",
      "respiration          762630 non-null float64\n",
      "cvp                  93717 non-null float64\n",
      "etco2                33550 non-null float64\n",
      "systemicsystolic     235196 non-null float64\n",
      "systemicdiastolic    235199 non-null float64\n",
      "systemicmean         235197 non-null float64\n",
      "pasystolic           26656 non-null float64\n",
      "padiastolic          26657 non-null float64\n",
      "pamean               26657 non-null float64\n",
      "st1                  462623 non-null float64\n",
      "st2                  472255 non-null float64\n",
      "st3                  464073 non-null float64\n",
      "icp                  11719 non-null float64\n",
      "dtypes: float64(16), int64(3)\n",
      "memory usage: 145.0 MB\n"
     ]
    }
   ],
   "source": [
    "chunks[-1000000:].info()"
   ]
  },
  {
   "cell_type": "code",
   "execution_count": 14,
   "metadata": {
    "collapsed": true
   },
   "outputs": [],
   "source": [
    "cf = chunks.dropna(subset=['icp'])[['vitalperiodicid', 'patientunitstayid']].patientunitstayid.unique()"
   ]
  },
  {
   "cell_type": "code",
   "execution_count": 5,
   "metadata": {
    "collapsed": true
   },
   "outputs": [],
   "source": [
    "cf = chunks.dropna(subset=['icp'])[['vitalperiodicid', 'patientunitstayid', 'observationoffset', 'systemicdiastolic', 'icp']]"
   ]
  },
  {
   "cell_type": "code",
   "execution_count": 6,
   "metadata": {
    "collapsed": true
   },
   "outputs": [],
   "source": [
    "col_names =  cf.columns\n",
    "sorted_df  = pd.DataFrame(columns = col_names)\n",
    "pids = cf.patientunitstayid.unique()\n",
    "for pid in pids:\n",
    "    sorted_df = sorted_df.append(cf[cf.patientunitstayid==pid].sort_values(by='observationoffset'))\n",
    "sorted_df.reset_index(drop=True, inplace=True)"
   ]
  },
  {
   "cell_type": "code",
   "execution_count": 16,
   "metadata": {},
   "outputs": [
    {
     "name": "stdout",
     "output_type": "stream",
     "text": [
      "<class 'pandas.core.frame.DataFrame'>\n",
      "RangeIndex: 1000000 entries, 0 to 999999\n",
      "Data columns (total 5 columns):\n",
      "vitalperiodicid      1000000 non-null object\n",
      "patientunitstayid    1000000 non-null object\n",
      "observationoffset    1000000 non-null object\n",
      "systemicdiastolic    422950 non-null float64\n",
      "icp                  1000000 non-null float64\n",
      "dtypes: float64(2), object(3)\n",
      "memory usage: 38.1+ MB\n"
     ]
    }
   ],
   "source": [
    "sorted_df[:1000000].info()"
   ]
  },
  {
   "cell_type": "code",
   "execution_count": 4,
   "metadata": {},
   "outputs": [
    {
     "data": {
      "text/html": [
       "<div>\n",
       "<style scoped>\n",
       "    .dataframe tbody tr th:only-of-type {\n",
       "        vertical-align: middle;\n",
       "    }\n",
       "\n",
       "    .dataframe tbody tr th {\n",
       "        vertical-align: top;\n",
       "    }\n",
       "\n",
       "    .dataframe thead th {\n",
       "        text-align: right;\n",
       "    }\n",
       "</style>\n",
       "<table border=\"1\" class=\"dataframe\">\n",
       "  <thead>\n",
       "    <tr style=\"text-align: right;\">\n",
       "      <th></th>\n",
       "      <th>vitalperiodicid</th>\n",
       "      <th>patientunitstayid</th>\n",
       "      <th>systemicdiastolic</th>\n",
       "      <th>icp</th>\n",
       "    </tr>\n",
       "  </thead>\n",
       "  <tbody>\n",
       "    <tr>\n",
       "      <th>54050</th>\n",
       "      <td>48697139</td>\n",
       "      <td>141800</td>\n",
       "      <td>50.0</td>\n",
       "      <td>23.0</td>\n",
       "    </tr>\n",
       "    <tr>\n",
       "      <th>54051</th>\n",
       "      <td>48676207</td>\n",
       "      <td>141800</td>\n",
       "      <td>46.0</td>\n",
       "      <td>32.0</td>\n",
       "    </tr>\n",
       "    <tr>\n",
       "      <th>54052</th>\n",
       "      <td>48688384</td>\n",
       "      <td>141800</td>\n",
       "      <td>46.0</td>\n",
       "      <td>29.0</td>\n",
       "    </tr>\n",
       "    <tr>\n",
       "      <th>54053</th>\n",
       "      <td>48690831</td>\n",
       "      <td>141800</td>\n",
       "      <td>52.0</td>\n",
       "      <td>26.0</td>\n",
       "    </tr>\n",
       "    <tr>\n",
       "      <th>54054</th>\n",
       "      <td>48700497</td>\n",
       "      <td>141800</td>\n",
       "      <td>42.0</td>\n",
       "      <td>18.0</td>\n",
       "    </tr>\n",
       "  </tbody>\n",
       "</table>\n",
       "</div>"
      ],
      "text/plain": [
       "       vitalperiodicid  patientunitstayid  systemicdiastolic   icp\n",
       "54050         48697139             141800               50.0  23.0\n",
       "54051         48676207             141800               46.0  32.0\n",
       "54052         48688384             141800               46.0  29.0\n",
       "54053         48690831             141800               52.0  26.0\n",
       "54054         48700497             141800               42.0  18.0"
      ]
     },
     "execution_count": 4,
     "metadata": {},
     "output_type": "execute_result"
    }
   ],
   "source": [
    "cf.head()"
   ]
  },
  {
   "cell_type": "code",
   "execution_count": null,
   "metadata": {
    "collapsed": true
   },
   "outputs": [],
   "source": [
    "cf = chunks.dropna(subset=['icp'])[['vitalperiodicid', 'patientunitstayid', 'icp']]"
   ]
  },
  {
   "cell_type": "code",
   "execution_count": 11,
   "metadata": {},
   "outputs": [],
   "source": [
    "pq = []\n",
    "pids =  cf.patientunitstayid.unique()\n",
    "for pid in pids:\n",
    "    pq.append(float(len(cf[cf.patientunitstayid==pid])))\n"
   ]
  },
  {
   "cell_type": "code",
   "execution_count": 15,
   "metadata": {},
   "outputs": [
    {
     "data": {
      "text/plain": [
       "134.19150346797224"
      ]
     },
     "execution_count": 15,
     "metadata": {},
     "output_type": "execute_result"
    }
   ],
   "source": [
    "sum(pq)/len(pq)*5/60"
   ]
  },
  {
   "cell_type": "code",
   "execution_count": 23,
   "metadata": {
    "collapsed": true
   },
   "outputs": [],
   "source": [
    "pq = []\n",
    "pids =  chunks.dropna(subset=['icp'])[['vitalperiodicid', 'patientunitstayid']].patientunitstayid.unique()\n",
    "for pid in pids:\n",
    "    pq.append(float(len(cf[cf.patientunitstayid==pid]))/len(chunks[chunks.patientunitstayid==pid]))\n",
    "pq = sorted(pq)"
   ]
  },
  {
   "cell_type": "code",
   "execution_count": 1,
   "metadata": {},
   "outputs": [
    {
     "ename": "NameError",
     "evalue": "name 'q' is not defined",
     "output_type": "error",
     "traceback": [
      "\u001b[0;31m\u001b[0m",
      "\u001b[0;31mNameError\u001b[0mTraceback (most recent call last)",
      "\u001b[0;32m<ipython-input-1-c3be117041a1>\u001b[0m in \u001b[0;36m<module>\u001b[0;34m()\u001b[0m\n\u001b[0;32m----> 1\u001b[0;31m \u001b[0mq\u001b[0m\u001b[0;34m\u001b[0m\u001b[0m\n\u001b[0m",
      "\u001b[0;31mNameError\u001b[0m: name 'q' is not defined"
     ]
    }
   ],
   "source": [
    "q"
   ]
  },
  {
   "cell_type": "code",
   "execution_count": 21,
   "metadata": {},
   "outputs": [
    {
     "data": {
      "text/plain": [
       "[1, 2, 4, 4]"
      ]
     },
     "execution_count": 21,
     "metadata": {},
     "output_type": "execute_result"
    }
   ],
   "source": [
    "q=[1,4,2,4]\n",
    "sorted(q)"
   ]
  },
  {
   "cell_type": "code",
   "execution_count": 28,
   "metadata": {},
   "outputs": [
    {
     "data": {
      "text/plain": [
       "0.8329774614472123"
      ]
     },
     "execution_count": 28,
     "metadata": {},
     "output_type": "execute_result"
    }
   ],
   "source": [
    "pq[2*len(pq)/3]"
   ]
  },
  {
   "cell_type": "code",
   "execution_count": 25,
   "metadata": {},
   "outputs": [
    {
     "data": {
      "text/plain": [
       "0.9272265707636979"
      ]
     },
     "execution_count": 25,
     "metadata": {},
     "output_type": "execute_result"
    }
   ],
   "source": [
    "pq[4*len(pq)/5]"
   ]
  },
  {
   "cell_type": "code",
   "execution_count": null,
   "metadata": {
    "scrolled": false
   },
   "outputs": [],
   "source": [
    "pids =  chunks.dropna(subset=['icp'])[['vitalperiodicid', 'patientunitstayid']].patientunitstayid.unique()\n",
    "for pid in pids:\n",
    "    print(len(cf[cf.patientunitstayid==pid]), len(chunks[chunks.patientunitstayid==pid]))"
   ]
  },
  {
   "cell_type": "code",
   "execution_count": null,
   "metadata": {
    "collapsed": true
   },
   "outputs": [],
   "source": []
  },
  {
   "cell_type": "code",
   "execution_count": null,
   "metadata": {
    "collapsed": true
   },
   "outputs": [],
   "source": []
  },
  {
   "cell_type": "code",
   "execution_count": null,
   "metadata": {
    "collapsed": true
   },
   "outputs": [],
   "source": [
    "len(chunks)"
   ]
  },
  {
   "cell_type": "code",
   "execution_count": null,
   "metadata": {},
   "outputs": [
    {
     "name": "stderr",
     "output_type": "stream",
     "text": [
      "/sw/acf/anaconda2/4.4.0/centos7.3_gnu6.3.0/anaconda2-4.4.0/lib/python2.7/site-packages/IPython/core/interactiveshell.py:2717: DtypeWarning: Columns (11) have mixed types. Specify dtype option on import or set low_memory=False.\n",
      "  interactivity=interactivity, compiler=compiler, result=result)\n"
     ]
    }
   ],
   "source": [
    "#!/usr/bin/env python\n",
    "# coding: utf-8\n",
    "\n",
    "# In[ ]:\n",
    "\n",
    "\n",
    "import pandas as pd\n",
    "import numpy as np\n",
    "import random as rnd\n",
    "import os\n",
    "import copy\n",
    "\n",
    "\n",
    "\n",
    "# Preprocessing\n",
    "from sklearn import preprocessing\n",
    "import datetime\n",
    "\n",
    "from sklearn.model_selection import train_test_split\n",
    "from sklearn.metrics import classification_report\n",
    "from sklearn.metrics import f1_score\n",
    "\n",
    "\n",
    "# In[ ]:\n",
    "\n",
    "\n",
    "time_priors = [2, 4, 6, 8]\n",
    "time_duration = 36\n",
    "time_sep = 24\n",
    "noDataPoints = 90\n",
    "\n",
    "\n",
    "# In[ ]:\n",
    "\n",
    "\n",
    "chunks=pd.read_csv('eICU/vitalPeriodic.csv', chunksize=1000000)\n",
    "\n",
    "\n",
    "# In[ ]:\n",
    "\n",
    "\n",
    "def gety_fun(pos, time_prior, data_frame):\n",
    "    tmp = data_frame.iloc[-1]['temperature']      \n",
    "        \n",
    "    data_frame = data_frame.iloc[:-pos-1][['sao2', 'heartrate', 'respiration', 'cvp', 'systemicsystolic', 'systemicdiastolic', 'systemicmean']]\n",
    "    \n",
    "    return data_frame.iloc[len(data_frame)-noDataPoints:-1].values, time_prior\n",
    "\n",
    "\n",
    "# In[ ]:\n",
    "\n",
    "\n",
    "dt = {}\n",
    "med_df = pd.read_csv('eICU/medication.csv')\n",
    "col_names =  med_df.columns\n",
    "df  = pd.DataFrame(columns = col_names)\n",
    "for pid in med_df.patientunitstayid.unique():\n",
    "    df = df.append(med_df[med_df.patientunitstayid==pid].sort_values(by='drugstartoffset'))\n",
    "df.reset_index(drop=True, inplace=True)\n",
    "df = df.dropna(subset=['drugname'])\n",
    "feverDrugs = ['paracetamol',  'acetaminophen', 'ibuprofen',  'tylenol', 'advil',  'aspirin',  'motrin',  'naproxen', 'aleve', 'bayer', 'aspirin',  'ibu']\n",
    "for i in range(len(df)):\n",
    "  #  print('iijoi', df.get(df.iloc[i]['patientunitstayid'], 0))\n",
    "    if dt.get(df.iloc[i]['patientunitstayid'], [0,0])[0]==0:\n",
    "        \n",
    "        drugs = df.iloc[i]['drugname'].split()\n",
    "        drugs = [drug.lower() for drug in drugs]\n",
    "        if sum([int(feverDrug==drug) for feverDrug in feverDrugs for drug in drugs])>0:\n",
    "            dt[df.iloc[i]['patientunitstayid']] = [1, df.iloc[i]['drugstartoffset']]\n",
    "         #   print(i)\n",
    " \n",
    "\n",
    "\n",
    "# In[ ]:\n",
    "\n",
    "\n",
    "def process1(demo_df, drugdt):\n",
    "    demo_df = demo_df[['vitalperiodicid', 'patientunitstayid', 'observationoffset', 'temperature', 'sao2', 'heartrate', 'respiration', 'cvp', 'systemicsystolic', 'systemicdiastolic', 'systemicmean']]\n",
    "    demo_df[['vitalperiodicid','patientunitstayid', 'observationoffset']] = demo_df[['vitalperiodicid','patientunitstayid', 'observationoffset']].astype('int32')\n",
    "    demo_df[['temperature','sao2', 'heartrate', 'respiration','cvp', 'systemicsystolic', 'systemicdiastolic', 'systemicmean']] = demo_df[['temperature','sao2', 'heartrate', 'respiration','cvp', 'systemicsystolic', 'systemicdiastolic', 'systemicmean']].astype('float32')\n",
    "    \n",
    "  #  demo_df['vitalperiodicid'] = demo_df['vitalperiodicid'].apply(lambda x: datetime.datetime.fromtimestamp(x))\n",
    "    \n",
    "    \n",
    "     \n",
    "    temp = demo_df.dropna(subset=['temperature'])[['vitalperiodicid', 'patientunitstayid', 'observationoffset', 'temperature', 'sao2', 'heartrate', 'respiration', 'cvp', 'systemicsystolic', 'systemicdiastolic', 'systemicmean']]\n",
    "    \n",
    "    feverdf = copy.copy(temp)\n",
    "    feverdf['temperature'] = feverdf['temperature'].apply(lambda x: np.nan if x<38.0 else x)\n",
    "    feverdf = feverdf.dropna(subset=['temperature'])[['patientunitstayid']]\n",
    "    \n",
    "    feverpid = feverdf.patientunitstayid.unique()\n",
    "    \n",
    "    pospid = temp.patientunitstayid.unique()\n",
    "    \n",
    "    volume = len(temp.patientunitstayid.unique())\n",
    "    #Removing those pid who does not have any fever data.\n",
    "    demo_df = demo_df.drop(demo_df[[volume == Sum for Sum in sum([demo_df.patientunitstayid!=pid for pid in temp.patientunitstayid.unique()])]].index)\n",
    "    \n",
    "    dt = {}\n",
    "    colms = ['systemicsystolic', 'systemicdiastolic', 'systemicmean', 'sao2', 'heartrate', 'respiration', 'cvp']\n",
    "    for pid in demo_df.patientunitstayid.unique():\n",
    "        for col in colms:\n",
    "            dt[(pid, col)] = demo_df[demo_df['patientunitstayid']==pid][col].median()\n",
    "    for pid in temp.patientunitstayid.unique():\n",
    "        for col in colms:\n",
    "            temp.loc[(temp.patientunitstayid==pid) & (temp[col].isnull()), col] = dt[(pid, col)]\n",
    "    temp['systemicdiastolic'] = temp['systemicdiastolic'].fillna(demo_df['systemicdiastolic'].median())\n",
    "    temp['systemicsystolic'] = temp['systemicsystolic'].fillna(demo_df['systemicsystolic'].median())\n",
    "    temp['systemicmean'] = temp['systemicmean'].fillna(demo_df['systemicmean'].median())\n",
    "    temp['sao2'] = temp['sao2'].fillna(demo_df['sao2'].median())\n",
    "    temp['heartrate'] = temp['heartrate'].fillna(demo_df['heartrate'].median())\n",
    "    temp['respiration'] = temp['respiration'].fillna(demo_df['respiration'].median())\n",
    "    temp['cvp'] = temp['cvp'].fillna(demo_df['cvp'].median())\n",
    "    \n",
    "    for pid in demo_df.patientunitstayid.unique():\n",
    "        for col in colms:\n",
    "            demo_df.loc[(demo_df.patientunitstayid==pid) & (demo_df[col].isnull()), col] = dt[(pid, col)]\n",
    "\n",
    "    demo_df['systemicdiastolic'] = demo_df['systemicdiastolic'].fillna(demo_df['systemicdiastolic'].median())\n",
    "    demo_df['systemicsystolic'] = demo_df['systemicsystolic'].fillna(demo_df['systemicsystolic'].median())\n",
    "    demo_df['systemicmean'] = demo_df['systemicmean'].fillna(demo_df['systemicmean'].median())\n",
    "    demo_df['sao2'] = demo_df['sao2'].fillna(demo_df['sao2'].median())\n",
    "    demo_df['heartrate'] = demo_df['heartrate'].fillna(demo_df['heartrate'].median())\n",
    "    demo_df['respiration'] = demo_df['respiration'].fillna(demo_df['respiration'].median())\n",
    "    demo_df['cvp'] = demo_df['cvp'].fillna(demo_df['cvp'].median())\n",
    "    \n",
    "    col_names =  demo_df.columns\n",
    "    sorted_df  = pd.DataFrame(columns = col_names)\n",
    "    for pid in demo_df.patientunitstayid.unique():\n",
    "        sorted_df = sorted_df.append(demo_df[demo_df.patientunitstayid==pid].sort_values(by='observationoffset'))\n",
    "    col_names =  temp.columns\n",
    "    df  = pd.DataFrame(columns = col_names)\n",
    "    for pid in temp.patientunitstayid.unique():\n",
    "        df = df.append(temp[temp.patientunitstayid==pid].sort_values(by='observationoffset'))\n",
    "    sorted_df.reset_index(drop=True, inplace=True)\n",
    "    df.reset_index(drop=True, inplace=True)\n",
    "    \n",
    "    df_epCount  = pd.DataFrame(columns = ['epCount'])\n",
    "    for pid in sorted_df.patientunitstayid.unique():\n",
    "       # print(pid)\n",
    "        df_fever = sorted_df[sorted_df.patientunitstayid==pid]['temperature'].apply(lambda x: 1 if x>=38.0 else 0)        \n",
    "        df_epCount = pd.concat([df_epCount, (df_fever.cumsum()-df_fever).apply(lambda x: str(x))])\n",
    "    \n",
    "    sorted_df['patientunitstayid'] = sorted_df['patientunitstayid'].apply( lambda x: str(x))\n",
    "    sorted_df['epCount'] = df_epCount[0]\n",
    "    sorted_df['patientunitstayid'] =  sorted_df[['patientunitstayid', 'epCount']].apply(lambda x: '_'.join(x), axis=1)\n",
    "    colm = ['sao2', 'heartrate', 'respiration', 'cvp', 'systemicsystolic', 'systemicdiastolic', 'systemicmean']\n",
    "    \n",
    "    \n",
    "    x=[]\n",
    "    y=[]\n",
    "    z=[]\n",
    "    for clmn in colm:\n",
    "        mean = sorted_df[clmn].mean()\n",
    "        std = sorted_df[clmn].std()\n",
    "        sorted_df[clmn] = sorted_df[clmn].apply(lambda x: (x-mean)/std)\n",
    "    \n",
    "   \n",
    "        \n",
    "    temperature_list = sorted_df[sorted_df['temperature'].notnull()].index.tolist()\n",
    "    i=0\n",
    "    prev_idx = 0\n",
    "    pid = sorted_df.iloc[0]['patientunitstayid']\n",
    "    lastFever = sorted_df.iloc[0]['observationoffset']# does not matter\n",
    "    prev_pid = -1\n",
    "    freq = 1/5\n",
    "\n",
    "    for idx in temperature_list: \n",
    "        pid = sorted_df.iloc[idx]['patientunitstayid']\n",
    "        if not pid==prev_pid:\n",
    "            if not prev_pid==-1:\n",
    "                lastFever = sorted_df[sorted_df['patientunitstayid'] == prev_pid].iloc[-1]['observationoffset']\n",
    "            prev_pid = sorted_df.iloc[idx]['patientunitstayid']\n",
    "            prev_idx = sorted_df.index[sorted_df['patientunitstayid'] == pid].tolist()[0]\n",
    "            \n",
    "        if pid not in feverpid and sorted_df.iloc[idx]['temperature']<38.0:\n",
    "            pos = 0\n",
    "            if len(sorted_df[prev_idx:idx+1].iloc[:-pos-1])<=noDataPoints or drugdt.get(pid, [0, 0])[0]==1 or np.random.rand()>0.01:\n",
    "                pass\n",
    "            else:\n",
    "                oop = gety_fun(pos, -1, sorted_df[prev_idx:idx+1])\n",
    "                x.append(oop[0])\n",
    "                y.append(oop[1])\n",
    "                z.append(pid)\n",
    "        \n",
    "        \n",
    "        elif (not sorted_df.loc[idx]['epCount'] == '0') or drugdt.get(pid, [0, 0])[1]<sorted_df.iloc[idx]['observationoffset']:        \n",
    "        \n",
    "            if sorted_df.loc[idx]['epCount'] == '0' or sorted_df.loc[idx]['observationoffset'] - lastFever > time_sep*60:\n",
    "\n",
    "        \n",
    "                while sorted_df.iloc[idx]['observationoffset'] - sorted_df.iloc[prev_idx]['observationoffset'] > time_duration*60:\n",
    "                    prev_idx+=1\n",
    " #   print(prev_idx, idx)\n",
    "                time_diff = sorted_df.loc[idx]['observationoffset'] - sorted_df.loc[prev_idx]['observationoffset']\n",
    "    \n",
    "  #  print(time_diff)\n",
    "\n",
    "                for time_prior in time_priors:\n",
    "                    if time_diff < time_prior*60:\n",
    "                        pass\n",
    "    \n",
    "                    else:\n",
    "               # freq = len(sorted_df[prev_idx:idx+1])/time_diff.total_seconds()\n",
    "                        pos = int(60*time_prior*freq)\n",
    "                        if len(sorted_df[prev_idx:idx+1].iloc[:-pos-1])<=noDataPoints:\n",
    "                            pass\n",
    "                        else:\n",
    "                            oop = gety_fun(pos, time_prior, sorted_df[prev_idx:idx+1])\n",
    "                            x.append(oop[0])\n",
    "                            y.append(oop[1])\n",
    "                            z.append(pid)\n",
    "        i+=1\n",
    "    \n",
    "    y = np.array(y)\n",
    "    x=np.array(x)\n",
    "    return y, x, z, pospid\n",
    "\n",
    "\n",
    "# In[ ]:\n",
    "\n",
    "\n",
    "iu = 0\n",
    "Y , X, Z = [], [], []\n",
    "pospid = []\n",
    "for chunk in chunks:\n",
    "    iu+=1\n",
    "    y, x, z, pid= process1(chunk, dt)\n",
    "    pospid.append(pid)\n",
    "    print(iu)\n",
    "   # print(len(pid), sum(y), len(y))\n",
    "    for i in range(len(y)):\n",
    "        Y.append(y[i])\n",
    "        X.append(x[i])\n",
    "        Z.append(z[i])\n",
    "\n",
    "\n",
    "# In[ ]:\n",
    "\n",
    "\n",
    "np.save('TCNRegressionobsfullDX', X)\n",
    "np.save('TCNRegressionobsfullDY', Y)\n",
    "np.save('TCNRegressionobsfullDZ', Z)\n",
    "np.save('TCNRegressionobsfullDpospid', pospid)\n",
    "\n"
   ]
  },
  {
   "cell_type": "code",
   "execution_count": 1,
   "metadata": {},
   "outputs": [
    {
     "name": "stderr",
     "output_type": "stream",
     "text": [
      "Using TensorFlow backend.\n"
     ]
    }
   ],
   "source": [
    "import keras"
   ]
  },
  {
   "cell_type": "code",
   "execution_count": 2,
   "metadata": {
    "collapsed": true
   },
   "outputs": [],
   "source": [
    "#import tensorflow as tf\n",
    "import numpy as np\n",
    "from keras.models import Sequential\n",
    "from keras.layers import LSTM, Dense"
   ]
  }
 ],
 "metadata": {
  "kernelspec": {
   "display_name": "Python 3",
   "language": "python",
   "name": "python3"
  },
  "language_info": {
   "codemirror_mode": {
    "name": "ipython",
    "version": 3
   },
   "file_extension": ".py",
   "mimetype": "text/x-python",
   "name": "python",
   "nbconvert_exporter": "python",
   "pygments_lexer": "ipython3",
   "version": "3.7.3"
  }
 },
 "nbformat": 4,
 "nbformat_minor": 2
}
